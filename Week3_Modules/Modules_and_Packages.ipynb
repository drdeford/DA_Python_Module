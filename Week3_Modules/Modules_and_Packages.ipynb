{
 "cells": [
  {
   "cell_type": "markdown",
   "metadata": {},
   "source": [
    "# Introduction\n",
    "\n",
    "Not everything that we will want to do is contained in the main Python language. Instead, we will need to import some additional packages (most of which are included automatically with Anaconda if you followed the installation directions from the .pdf in week 1). One of the great things about Python is that it has a very well-supported ecosystem of packages that cover all sorts of useful topics. This week we will look at a few common and simple examples and in the following weeks we will continue to expand our familiarity with many data-focused examples. \n",
    "\n",
    "There aren't any textbook readings for this week. Instead we will look through some of the documentation pages for the packages we are going to discuss: \n",
    "\n",
    "* [math](https://docs.python.org/3/library/math.html)\n",
    "* [random](https://docs.python.org/3/library/random.html)\n",
    "* [time](https://docs.python.org/3/library/time.html)\n",
    "* [requests](https://docs.python-requests.org/en/master/)\n",
    "* [faker](https://faker.readthedocs.io/en/master/)\n",
    "\n",
    "The main repository for information about python packages is the Python Package Index [PyPI](https://pypi.org/). You can scroll through the hundreds of thousands of available packages there.  \n",
    "\n"
   ]
  },
  {
   "cell_type": "markdown",
   "metadata": {},
   "source": [
    "We will start with the math package, which provides access to some additional functions beyond the simple arithmetic operations we worked with last week. In order to be able to use the functions in our notebook we need to `import` the package. Once an import occurs in the notebook, the functions will be available in the rest of the cells, so each import only needs to occur once. The standard approach is to include the imports in a separate cell at the top of the notebook but for these examples we will do them one at a time as we discuss them. \n",
    " \n"
   ]
  },
  {
   "cell_type": "code",
   "execution_count": 1,
   "metadata": {},
   "outputs": [],
   "source": [
    "import math"
   ]
  },
  {
   "cell_type": "markdown",
   "metadata": {},
   "source": [
    "The complete set of functions provided by the math package is listed at the webpage linked in the first cell, along with descriptions of the input parameters for the functions. To use these functions, we have to tell Python where they are coming from as the example about squareroots below shows:  "
   ]
  },
  {
   "cell_type": "code",
   "execution_count": 2,
   "metadata": {},
   "outputs": [
    {
     "data": {
      "text/plain": [
       "12.0"
      ]
     },
     "execution_count": 2,
     "metadata": {},
     "output_type": "execute_result"
    }
   ],
   "source": [
    "math.sqrt(144)"
   ]
  },
  {
   "cell_type": "code",
   "execution_count": 3,
   "metadata": {},
   "outputs": [
    {
     "ename": "NameError",
     "evalue": "name 'sqrt' is not defined",
     "output_type": "error",
     "traceback": [
      "\u001b[1;31m---------------------------------------------------------------------------\u001b[0m",
      "\u001b[1;31mNameError\u001b[0m                                 Traceback (most recent call last)",
      "\u001b[1;32m<ipython-input-3-e1afeb89490e>\u001b[0m in \u001b[0;36m<module>\u001b[1;34m()\u001b[0m\n\u001b[1;32m----> 1\u001b[1;33m \u001b[0msqrt\u001b[0m\u001b[1;33m(\u001b[0m\u001b[1;36m144\u001b[0m\u001b[1;33m)\u001b[0m\u001b[1;33m\u001b[0m\u001b[0m\n\u001b[0m",
      "\u001b[1;31mNameError\u001b[0m: name 'sqrt' is not defined"
     ]
    }
   ],
   "source": [
    "sqrt(144)"
   ]
  },
  {
   "cell_type": "code",
   "execution_count": 4,
   "metadata": {},
   "outputs": [
    {
     "data": {
      "text/plain": [
       "24"
      ]
     },
     "execution_count": 4,
     "metadata": {},
     "output_type": "execute_result"
    }
   ],
   "source": [
    "math.factorial(4)"
   ]
  },
  {
   "cell_type": "markdown",
   "metadata": {},
   "source": [
    "In addition to providing mathematical functions, the package also provides some constants like pi. "
   ]
  },
  {
   "cell_type": "code",
   "execution_count": 5,
   "metadata": {},
   "outputs": [
    {
     "data": {
      "text/plain": [
       "-1.0"
      ]
     },
     "execution_count": 5,
     "metadata": {},
     "output_type": "execute_result"
    }
   ],
   "source": [
    "math.cos(math.pi)"
   ]
  },
  {
   "cell_type": "markdown",
   "metadata": {},
   "source": [
    "Our next pacakge is the `random` package, which provides functions for generating random numbers. This time, instead of importing the entire package, we will just import a single function to start with. This uses a slightly different syntax than we used for the `math` example above. "
   ]
  },
  {
   "cell_type": "code",
   "execution_count": 6,
   "metadata": {},
   "outputs": [],
   "source": [
    "from random import randint"
   ]
  },
  {
   "cell_type": "markdown",
   "metadata": {},
   "source": [
    "The `randint` function takes two integer arguments and returns a random integer between them (inclusive). If you run the following cell several times, it will return different answers: \n"
   ]
  },
  {
   "cell_type": "code",
   "execution_count": 7,
   "metadata": {},
   "outputs": [
    {
     "data": {
      "text/plain": [
       "45"
      ]
     },
     "execution_count": 7,
     "metadata": {},
     "output_type": "execute_result"
    }
   ],
   "source": [
    "randint(10,100)"
   ]
  },
  {
   "cell_type": "markdown",
   "metadata": {},
   "source": [
    "Notice that this time we didn't have to type random.randint, like we did for the math functions because we imported the specific function rather than the module. If we want to access more functions, we can import them separately as well: \n"
   ]
  },
  {
   "cell_type": "code",
   "execution_count": 8,
   "metadata": {},
   "outputs": [],
   "source": [
    "from random import uniform, gauss"
   ]
  },
  {
   "cell_type": "code",
   "execution_count": 9,
   "metadata": {},
   "outputs": [
    {
     "name": "stdout",
     "output_type": "stream",
     "text": [
      "0.33405394853612613\n",
      "-0.6155240374377009\n"
     ]
    }
   ],
   "source": [
    "print(uniform(0,1))\n",
    "print(gauss(0,1))"
   ]
  },
  {
   "cell_type": "markdown",
   "metadata": {},
   "source": [
    "It is generally considered a bad coding practice, since it can be confusing and lead to naming conflicts but we can import all of the functions from a module using an asterisk: "
   ]
  },
  {
   "cell_type": "code",
   "execution_count": 10,
   "metadata": {},
   "outputs": [
    {
     "data": {
      "text/plain": [
       "['z']"
      ]
     },
     "execution_count": 10,
     "metadata": {},
     "output_type": "execute_result"
    }
   ],
   "source": [
    "from random import *\n",
    "\n",
    "sample('abcdefghijklmnopqrstuvwxyz',1)"
   ]
  },
  {
   "cell_type": "markdown",
   "metadata": {},
   "source": [
    "The `time` package provides some useful tools for measuring and working with time, which can be very useful for evaluating the performance of code examples. One common modification of the import syntax is to provide an alias for the package we are importing, so make the prefix a little easier to type and many of the packages that we will encounter later on have commonly used aliases that are common throughout the python community. It doesn't really help us much to shorten the word time but the next few cells give an example of this syntax. Note that one place this can be helpful is when the module has a function of the same name (like random.random or time.time), since this setup makes it a little less confusing.  "
   ]
  },
  {
   "cell_type": "code",
   "execution_count": 24,
   "metadata": {},
   "outputs": [],
   "source": [
    "import time as tm"
   ]
  },
  {
   "cell_type": "code",
   "execution_count": 25,
   "metadata": {},
   "outputs": [
    {
     "data": {
      "text/plain": [
       "time.struct_time(tm_year=2021, tm_mon=7, tm_mday=30, tm_hour=1, tm_min=34, tm_sec=52, tm_wday=4, tm_yday=211, tm_isdst=1)"
      ]
     },
     "execution_count": 25,
     "metadata": {},
     "output_type": "execute_result"
    }
   ],
   "source": [
    "tm.localtime()"
   ]
  },
  {
   "cell_type": "code",
   "execution_count": 26,
   "metadata": {},
   "outputs": [
    {
     "name": "stdout",
     "output_type": "stream",
     "text": [
      "It took 0.010161638259887695 seconds to choose and write 100 random letters!\n"
     ]
    }
   ],
   "source": [
    "start_time = tm.time()\n",
    "random_file = open(\"random_letters.txt\",\"w\")\n",
    "random_file.write(f\"{sample('abcdefghijklmnopqrstuvwxyz',1)}\\n\")\n",
    "random_file.write(f\"{sample('abcdefghijklmnopqrstuvwxyz',1)}\\n\")\n",
    "random_file.write(f\"{sample('abcdefghijklmnopqrstuvwxyz',1)}\\n\")\n",
    "random_file.write(f\"{sample('abcdefghijklmnopqrstuvwxyz',1)}\\n\")\n",
    "random_file.write(f\"{sample('abcdefghijklmnopqrstuvwxyz',1)}\\n\")\n",
    "random_file.write(f\"{sample('abcdefghijklmnopqrstuvwxyz',1)}\\n\")\n",
    "random_file.write(f\"{sample('abcdefghijklmnopqrstuvwxyz',1)}\\n\")\n",
    "random_file.write(f\"{sample('abcdefghijklmnopqrstuvwxyz',1)}\\n\")\n",
    "random_file.write(f\"{sample('abcdefghijklmnopqrstuvwxyz',1)}\\n\")\n",
    "random_file.write(f\"{sample('abcdefghijklmnopqrstuvwxyz',1)}\\n\")\n",
    "random_file.write(f\"{sample('abcdefghijklmnopqrstuvwxyz',1)}\\n\")\n",
    "random_file.write(f\"{sample('abcdefghijklmnopqrstuvwxyz',1)}\\n\")\n",
    "random_file.write(f\"{sample('abcdefghijklmnopqrstuvwxyz',1)}\\n\")\n",
    "random_file.write(f\"{sample('abcdefghijklmnopqrstuvwxyz',1)}\\n\")\n",
    "random_file.write(f\"{sample('abcdefghijklmnopqrstuvwxyz',1)}\\n\")\n",
    "random_file.write(f\"{sample('abcdefghijklmnopqrstuvwxyz',1)}\\n\")\n",
    "random_file.write(f\"{sample('abcdefghijklmnopqrstuvwxyz',1)}\\n\")\n",
    "random_file.write(f\"{sample('abcdefghijklmnopqrstuvwxyz',1)}\\n\")\n",
    "random_file.write(f\"{sample('abcdefghijklmnopqrstuvwxyz',1)}\\n\")\n",
    "random_file.write(f\"{sample('abcdefghijklmnopqrstuvwxyz',1)}\\n\")\n",
    "random_file.write(f\"{sample('abcdefghijklmnopqrstuvwxyz',1)}\\n\")\n",
    "random_file.write(f\"{sample('abcdefghijklmnopqrstuvwxyz',1)}\\n\")\n",
    "random_file.write(f\"{sample('abcdefghijklmnopqrstuvwxyz',1)}\\n\")\n",
    "random_file.write(f\"{sample('abcdefghijklmnopqrstuvwxyz',1)}\\n\")\n",
    "random_file.write(f\"{sample('abcdefghijklmnopqrstuvwxyz',1)}\\n\")\n",
    "random_file.write(f\"{sample('abcdefghijklmnopqrstuvwxyz',1)}\\n\")\n",
    "random_file.write(f\"{sample('abcdefghijklmnopqrstuvwxyz',1)}\\n\")\n",
    "random_file.write(f\"{sample('abcdefghijklmnopqrstuvwxyz',1)}\\n\")\n",
    "random_file.write(f\"{sample('abcdefghijklmnopqrstuvwxyz',1)}\\n\")\n",
    "random_file.write(f\"{sample('abcdefghijklmnopqrstuvwxyz',1)}\\n\")\n",
    "random_file.write(f\"{sample('abcdefghijklmnopqrstuvwxyz',1)}\\n\")\n",
    "random_file.write(f\"{sample('abcdefghijklmnopqrstuvwxyz',1)}\\n\")\n",
    "random_file.write(f\"{sample('abcdefghijklmnopqrstuvwxyz',1)}\\n\")\n",
    "random_file.write(f\"{sample('abcdefghijklmnopqrstuvwxyz',1)}\\n\")\n",
    "random_file.write(f\"{sample('abcdefghijklmnopqrstuvwxyz',1)}\\n\")\n",
    "random_file.write(f\"{sample('abcdefghijklmnopqrstuvwxyz',1)}\\n\")\n",
    "random_file.write(f\"{sample('abcdefghijklmnopqrstuvwxyz',1)}\\n\")\n",
    "random_file.write(f\"{sample('abcdefghijklmnopqrstuvwxyz',1)}\\n\")\n",
    "random_file.write(f\"{sample('abcdefghijklmnopqrstuvwxyz',1)}\\n\")\n",
    "random_file.write(f\"{sample('abcdefghijklmnopqrstuvwxyz',1)}\\n\")\n",
    "random_file.write(f\"{sample('abcdefghijklmnopqrstuvwxyz',1)}\\n\")\n",
    "random_file.write(f\"{sample('abcdefghijklmnopqrstuvwxyz',1)}\\n\")\n",
    "random_file.write(f\"{sample('abcdefghijklmnopqrstuvwxyz',1)}\\n\")\n",
    "random_file.write(f\"{sample('abcdefghijklmnopqrstuvwxyz',1)}\\n\")\n",
    "random_file.write(f\"{sample('abcdefghijklmnopqrstuvwxyz',1)}\\n\")\n",
    "random_file.write(f\"{sample('abcdefghijklmnopqrstuvwxyz',1)}\\n\")\n",
    "random_file.write(f\"{sample('abcdefghijklmnopqrstuvwxyz',1)}\\n\")\n",
    "random_file.write(f\"{sample('abcdefghijklmnopqrstuvwxyz',1)}\\n\")\n",
    "random_file.write(f\"{sample('abcdefghijklmnopqrstuvwxyz',1)}\\n\")\n",
    "random_file.write(f\"{sample('abcdefghijklmnopqrstuvwxyz',1)}\\n\")\n",
    "random_file.write(f\"{sample('abcdefghijklmnopqrstuvwxyz',1)}\\n\")\n",
    "random_file.write(f\"{sample('abcdefghijklmnopqrstuvwxyz',1)}\\n\")\n",
    "random_file.write(f\"{sample('abcdefghijklmnopqrstuvwxyz',1)}\\n\")\n",
    "random_file.write(f\"{sample('abcdefghijklmnopqrstuvwxyz',1)}\\n\")\n",
    "random_file.write(f\"{sample('abcdefghijklmnopqrstuvwxyz',1)}\\n\")\n",
    "random_file.write(f\"{sample('abcdefghijklmnopqrstuvwxyz',1)}\\n\")\n",
    "random_file.write(f\"{sample('abcdefghijklmnopqrstuvwxyz',1)}\\n\")\n",
    "random_file.write(f\"{sample('abcdefghijklmnopqrstuvwxyz',1)}\\n\")\n",
    "random_file.write(f\"{sample('abcdefghijklmnopqrstuvwxyz',1)}\\n\")\n",
    "random_file.write(f\"{sample('abcdefghijklmnopqrstuvwxyz',1)}\\n\")\n",
    "random_file.write(f\"{sample('abcdefghijklmnopqrstuvwxyz',1)}\\n\")\n",
    "random_file.write(f\"{sample('abcdefghijklmnopqrstuvwxyz',1)}\\n\")\n",
    "random_file.write(f\"{sample('abcdefghijklmnopqrstuvwxyz',1)}\\n\")\n",
    "random_file.write(f\"{sample('abcdefghijklmnopqrstuvwxyz',1)}\\n\")\n",
    "random_file.write(f\"{sample('abcdefghijklmnopqrstuvwxyz',1)}\\n\")\n",
    "random_file.write(f\"{sample('abcdefghijklmnopqrstuvwxyz',1)}\\n\")\n",
    "random_file.write(f\"{sample('abcdefghijklmnopqrstuvwxyz',1)}\\n\")\n",
    "random_file.write(f\"{sample('abcdefghijklmnopqrstuvwxyz',1)}\\n\")\n",
    "random_file.write(f\"{sample('abcdefghijklmnopqrstuvwxyz',1)}\\n\")\n",
    "random_file.write(f\"{sample('abcdefghijklmnopqrstuvwxyz',1)}\\n\")\n",
    "random_file.write(f\"{sample('abcdefghijklmnopqrstuvwxyz',1)}\\n\")\n",
    "random_file.write(f\"{sample('abcdefghijklmnopqrstuvwxyz',1)}\\n\")\n",
    "random_file.write(f\"{sample('abcdefghijklmnopqrstuvwxyz',1)}\\n\")\n",
    "random_file.write(f\"{sample('abcdefghijklmnopqrstuvwxyz',1)}\\n\")\n",
    "random_file.write(f\"{sample('abcdefghijklmnopqrstuvwxyz',1)}\\n\")\n",
    "random_file.write(f\"{sample('abcdefghijklmnopqrstuvwxyz',1)}\\n\")\n",
    "random_file.write(f\"{sample('abcdefghijklmnopqrstuvwxyz',1)}\\n\")\n",
    "random_file.write(f\"{sample('abcdefghijklmnopqrstuvwxyz',1)}\\n\")\n",
    "random_file.write(f\"{sample('abcdefghijklmnopqrstuvwxyz',1)}\\n\")\n",
    "random_file.write(f\"{sample('abcdefghijklmnopqrstuvwxyz',1)}\\n\")\n",
    "random_file.write(f\"{sample('abcdefghijklmnopqrstuvwxyz',1)}\\n\")\n",
    "random_file.write(f\"{sample('abcdefghijklmnopqrstuvwxyz',1)}\\n\")\n",
    "random_file.write(f\"{sample('abcdefghijklmnopqrstuvwxyz',1)}\\n\")\n",
    "random_file.write(f\"{sample('abcdefghijklmnopqrstuvwxyz',1)}\\n\")\n",
    "random_file.write(f\"{sample('abcdefghijklmnopqrstuvwxyz',1)}\\n\")\n",
    "random_file.write(f\"{sample('abcdefghijklmnopqrstuvwxyz',1)}\\n\")\n",
    "random_file.write(f\"{sample('abcdefghijklmnopqrstuvwxyz',1)}\\n\")\n",
    "random_file.write(f\"{sample('abcdefghijklmnopqrstuvwxyz',1)}\\n\")\n",
    "random_file.write(f\"{sample('abcdefghijklmnopqrstuvwxyz',1)}\\n\")\n",
    "random_file.write(f\"{sample('abcdefghijklmnopqrstuvwxyz',1)}\\n\")\n",
    "random_file.write(f\"{sample('abcdefghijklmnopqrstuvwxyz',1)}\\n\")\n",
    "random_file.write(f\"{sample('abcdefghijklmnopqrstuvwxyz',1)}\\n\")\n",
    "random_file.write(f\"{sample('abcdefghijklmnopqrstuvwxyz',1)}\\n\")\n",
    "random_file.write(f\"{sample('abcdefghijklmnopqrstuvwxyz',1)}\\n\")\n",
    "random_file.write(f\"{sample('abcdefghijklmnopqrstuvwxyz',1)}\\n\")\n",
    "random_file.write(f\"{sample('abcdefghijklmnopqrstuvwxyz',1)}\\n\")\n",
    "random_file.write(f\"{sample('abcdefghijklmnopqrstuvwxyz',1)}\\n\")\n",
    "random_file.write(f\"{sample('abcdefghijklmnopqrstuvwxyz',1)}\\n\")\n",
    "random_file.write(f\"{sample('abcdefghijklmnopqrstuvwxyz',1)}\\n\")\n",
    "random_file.write(f\"{sample('abcdefghijklmnopqrstuvwxyz',1)}\\n\")\n",
    "random_file.close()\n",
    "\n",
    "end_time = tm.time()\n",
    "\n",
    "print(f\"It took {end_time-start_time} seconds to choose and write 100 random letters!\")"
   ]
  },
  {
   "cell_type": "markdown",
   "metadata": {},
   "source": [
    "The time package also includes a sleep function that pauses the current running code for a set number of seconds:"
   ]
  },
  {
   "cell_type": "code",
   "execution_count": 27,
   "metadata": {},
   "outputs": [],
   "source": [
    "tm.sleep(5)"
   ]
  },
  {
   "cell_type": "markdown",
   "metadata": {},
   "source": [
    "There are many Python packages available for interacting with files and webpages on the internet. This week we will use the `requests` package to download files automatically. Last week we used the open and read functions to access content that was stored locally on our computers but requests will allow us to download files (and eventually datasets) directly from the internet into our Jupyter notebook. "
   ]
  },
  {
   "cell_type": "code",
   "execution_count": 17,
   "metadata": {},
   "outputs": [],
   "source": [
    "from requests import get"
   ]
  },
  {
   "cell_type": "code",
   "execution_count": 18,
   "metadata": {},
   "outputs": [],
   "source": [
    "internet_file = get(\"http://math.wsu.edu/faculty/ddeford/week3_file.txt\")"
   ]
  },
  {
   "cell_type": "code",
   "execution_count": 21,
   "metadata": {},
   "outputs": [
    {
     "name": "stdout",
     "output_type": "stream",
     "text": [
      "b'The requests package makes it easy to download files from the internet (among many other things)!'\n"
     ]
    }
   ],
   "source": [
    "print(internet_file.content)\n"
   ]
  },
  {
   "cell_type": "markdown",
   "metadata": {},
   "source": [
    "The downloaded file is binary (that is the `b` prefix in front of the string), so we need to add an additional argument if we want to write this to a local file. "
   ]
  },
  {
   "cell_type": "code",
   "execution_count": 28,
   "metadata": {},
   "outputs": [],
   "source": [
    "local_version = open(\"week3_local_file.txt\",\"wb\")\n",
    "local_version.write(internet_file.content)\n",
    "local_version.close()"
   ]
  },
  {
   "cell_type": "markdown",
   "metadata": {},
   "source": [
    "All of the packages we have used so far are provided by default with our anaconda installation but that isn't true for all packages that we might want to use. Our last example is the `faker` package for generating example data and if you try to run the cell below it will generate an error: "
   ]
  },
  {
   "cell_type": "code",
   "execution_count": 29,
   "metadata": {},
   "outputs": [
    {
     "ename": "ModuleNotFoundError",
     "evalue": "No module named 'faker'",
     "output_type": "error",
     "traceback": [
      "\u001b[1;31m---------------------------------------------------------------------------\u001b[0m",
      "\u001b[1;31mModuleNotFoundError\u001b[0m                       Traceback (most recent call last)",
      "\u001b[1;32m<ipython-input-29-c8d7425be09d>\u001b[0m in \u001b[0;36m<module>\u001b[1;34m()\u001b[0m\n\u001b[1;32m----> 1\u001b[1;33m \u001b[1;32mimport\u001b[0m \u001b[0mfaker\u001b[0m\u001b[1;33m\u001b[0m\u001b[0m\n\u001b[0m",
      "\u001b[1;31mModuleNotFoundError\u001b[0m: No module named 'faker'"
     ]
    }
   ],
   "source": [
    "import faker"
   ]
  },
  {
   "cell_type": "markdown",
   "metadata": {},
   "source": [
    "Instead, we first need to install the package using conda or pip before we can import it into our notebook. This will require returning to the anaconda console and running: \n",
    "\n",
    "` conda install -c conda-forge faker `\n",
    "\n",
    "after you give it permission to install, you will need to restart the notebook, at which point the previous cell will no longer generate an error. "
   ]
  },
  {
   "cell_type": "markdown",
   "metadata": {},
   "source": [
    "The syntax for faker is a little more complicated than some of the packages we have looked at so far but we can use it to generate some names and addresses: \n"
   ]
  },
  {
   "cell_type": "code",
   "execution_count": 31,
   "metadata": {},
   "outputs": [],
   "source": [
    "from faker import Faker\n",
    "fake = Faker()\n",
    "\n"
   ]
  },
  {
   "cell_type": "code",
   "execution_count": 35,
   "metadata": {},
   "outputs": [
    {
     "name": "stdout",
     "output_type": "stream",
     "text": [
      "Jessica Patterson\n",
      "15591 Ingram Orchard\n",
      "Barrettfort, UT 62526\n"
     ]
    }
   ],
   "source": [
    "print(fake.name())\n",
    "print(fake.address())\n"
   ]
  },
  {
   "cell_type": "code",
   "execution_count": 36,
   "metadata": {},
   "outputs": [
    {
     "name": "stdout",
     "output_type": "stream",
     "text": [
      "Western possible trade receive office catch.\n"
     ]
    }
   ],
   "source": [
    "print(fake.sentence())"
   ]
  },
  {
   "cell_type": "code",
   "execution_count": null,
   "metadata": {},
   "outputs": [],
   "source": []
  }
 ],
 "metadata": {
  "kernelspec": {
   "display_name": "Python 3",
   "language": "python",
   "name": "python3"
  },
  "language_info": {
   "codemirror_mode": {
    "name": "ipython",
    "version": 3
   },
   "file_extension": ".py",
   "mimetype": "text/x-python",
   "name": "python",
   "nbconvert_exporter": "python",
   "pygments_lexer": "ipython3",
   "version": "3.6.5"
  }
 },
 "nbformat": 4,
 "nbformat_minor": 2
}
