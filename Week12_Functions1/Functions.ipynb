{
 "cells": [
  {
   "cell_type": "markdown",
   "metadata": {},
   "source": [
    "# Introduction\n",
    "\n",
    "This week we are discussion **functions** which are one of the key concepts of all programming. While we have already encountered many examples of functions so far in these notebooks, we haven't written any of our own. That changes this week, as we begin to explore the advantages of being able to create our own functions. The syntax will be similar to what we previously saw with if/else and for loops with an indented body following a special word `def` and a colon. For functions we will also need to give our new creation a name, and possible choose some parameters and outputs. \n",
    "\n",
    "The readings for this week are: \n",
    "\n",
    "* [Chapter 3 of Automate the Boring Stuff](https://automatetheboringstuff.com/2e/chapter3/)\n",
    "* [Chapter 7 of Problem Solving with Python](https://problemsolvingwithpython.com/07-Functions-and-Modules/07.00-Introduction/)"
   ]
  },
  {
   "cell_type": "code",
   "execution_count": 2,
   "metadata": {},
   "outputs": [],
   "source": [
    "def first_function():\n",
    "    print(\"Success!\")"
   ]
  },
  {
   "cell_type": "code",
   "execution_count": 3,
   "metadata": {},
   "outputs": [
    {
     "name": "stdout",
     "output_type": "stream",
     "text": [
      "Success!\n"
     ]
    }
   ],
   "source": [
    "first_function()"
   ]
  },
  {
   "cell_type": "code",
   "execution_count": 4,
   "metadata": {},
   "outputs": [
    {
     "name": "stdout",
     "output_type": "stream",
     "text": [
      "Success!\n"
     ]
    }
   ],
   "source": [
    "first_function()\n"
   ]
  },
  {
   "cell_type": "code",
   "execution_count": 11,
   "metadata": {},
   "outputs": [],
   "source": [
    "from random import randint\n",
    "def sum_of_dice():\n",
    "    first_die = randint(1,6)\n",
    "    second_die = randint(1,6)\n",
    "    \n",
    "    print(f\"You rolled a {first_die+second_die}\")\n",
    "    \n",
    "    if first_die == second_die:\n",
    "        print(\"Doubles! Roll again\")\n",
    "    "
   ]
  },
  {
   "cell_type": "code",
   "execution_count": 17,
   "metadata": {},
   "outputs": [
    {
     "name": "stdout",
     "output_type": "stream",
     "text": [
      "You rolled a 6\n",
      "Doubles! Roll again\n"
     ]
    }
   ],
   "source": [
    "sum_of_dice()"
   ]
  },
  {
   "cell_type": "code",
   "execution_count": 18,
   "metadata": {},
   "outputs": [],
   "source": [
    "def return_sum_of_dice():\n",
    "    first_die = randint(1,6)\n",
    "    second_die = randint(1,6)\n",
    "    \n",
    "    dice_sum = first_die+second_die\n",
    "    \n",
    "    print(f\"You rolled a {dice_sum}\")\n",
    "    \n",
    "    if first_die == second_die:\n",
    "        print(\"Doubles! Roll again\")\n",
    "        \n",
    "    return dice_sum"
   ]
  },
  {
   "cell_type": "code",
   "execution_count": 23,
   "metadata": {},
   "outputs": [
    {
     "name": "stdout",
     "output_type": "stream",
     "text": [
      "You rolled a 9\n",
      "You rolled a 8\n",
      "You rolled a 4\n",
      "You rolled a 8\n",
      "You rolled a 7\n",
      "It took 5 rolls to get a prime number!\n"
     ]
    }
   ],
   "source": [
    "count = 0\n",
    "\n",
    "prime = False\n",
    "\n",
    "while prime == False:\n",
    "    \n",
    "    roll = return_sum_of_dice()\n",
    "    count += 1\n",
    "    \n",
    "    if roll in [2,3,5,7,11]:\n",
    "        prime = True\n",
    "    \n",
    "print(f\"It took {count} rolls to get a prime number!\")    "
   ]
  },
  {
   "cell_type": "code",
   "execution_count": 28,
   "metadata": {},
   "outputs": [],
   "source": [
    "def roll_until_prime():\n",
    "    count = 0\n",
    "\n",
    "    prime = False\n",
    "\n",
    "    while prime == False:\n",
    "\n",
    "        roll = return_sum_of_dice()\n",
    "        count += 1\n",
    "\n",
    "        if roll in [2,3,5,7,11]:\n",
    "            prime = True\n",
    "            \n",
    "    return count"
   ]
  },
  {
   "cell_type": "code",
   "execution_count": 29,
   "metadata": {},
   "outputs": [
    {
     "name": "stdout",
     "output_type": "stream",
     "text": [
      "You rolled a 6\n",
      "You rolled a 9\n",
      "You rolled a 7\n"
     ]
    }
   ],
   "source": [
    "number_of_rolls = roll_until_prime()\n"
   ]
  },
  {
   "cell_type": "code",
   "execution_count": 30,
   "metadata": {},
   "outputs": [
    {
     "name": "stdout",
     "output_type": "stream",
     "text": [
      "It took 3 rolls to get a prime number!\n"
     ]
    }
   ],
   "source": [
    "print(f\"It took {number_of_rolls} rolls to get a prime number!\")    "
   ]
  },
  {
   "cell_type": "code",
   "execution_count": 31,
   "metadata": {},
   "outputs": [],
   "source": [
    "def square_list(input_list):\n",
    "    \n",
    "    new_list = []\n",
    "    \n",
    "    for element in input_list:\n",
    "        new_list.append(element**2)\n",
    "        \n",
    "    return new_list"
   ]
  },
  {
   "cell_type": "code",
   "execution_count": 32,
   "metadata": {},
   "outputs": [
    {
     "data": {
      "text/plain": [
       "[1, 4, 9, 16]"
      ]
     },
     "execution_count": 32,
     "metadata": {},
     "output_type": "execute_result"
    }
   ],
   "source": [
    "square_list([1,2,3,-4])"
   ]
  },
  {
   "cell_type": "code",
   "execution_count": 33,
   "metadata": {},
   "outputs": [],
   "source": [
    "import math\n",
    "def quadratic_formula(a,b,c):\n",
    "    answer1 = (-b + math.sqrt(b**2-4*a*c))/2*a\n",
    "    answer2 = (-b - math.sqrt(b**2-4*a*c))/2*a\n",
    "    \n",
    "    return answer1, answer2\n",
    "\n"
   ]
  },
  {
   "cell_type": "code",
   "execution_count": 34,
   "metadata": {},
   "outputs": [],
   "source": [
    "def check_discriminant(a,b,c):\n",
    "    if b**2 - 4*a*c < 0:\n",
    "        return False\n",
    "    else:\n",
    "        return True\n",
    "    \n",
    "def quadratic_formula(a,b,c):\n",
    "    if check_discriminant(a,b,c) == False:\n",
    "        return None\n",
    "    else:\n",
    "    \n",
    "        answer1 = (-b + math.sqrt(b**2-4*a*c))/2*a\n",
    "        answer2 = (-b - math.sqrt(b**2-4*a*c))/2*a\n",
    "\n",
    "        return answer1, answer2"
   ]
  },
  {
   "cell_type": "code",
   "execution_count": 35,
   "metadata": {},
   "outputs": [],
   "source": [
    "my_variable = 7\n",
    "\n",
    "def scope_test(my_variable):\n",
    "    \n",
    "    my_variable = 5\n",
    "    \n",
    "    print(my_variable)\n",
    "    \n",
    "    "
   ]
  },
  {
   "cell_type": "code",
   "execution_count": 36,
   "metadata": {},
   "outputs": [
    {
     "name": "stdout",
     "output_type": "stream",
     "text": [
      "5\n"
     ]
    }
   ],
   "source": [
    "scope_test(7)"
   ]
  },
  {
   "cell_type": "code",
   "execution_count": 37,
   "metadata": {},
   "outputs": [
    {
     "name": "stdout",
     "output_type": "stream",
     "text": [
      "5\n"
     ]
    }
   ],
   "source": [
    "scope_test(my_variable)"
   ]
  },
  {
   "cell_type": "code",
   "execution_count": 38,
   "metadata": {},
   "outputs": [
    {
     "name": "stdout",
     "output_type": "stream",
     "text": [
      "7\n"
     ]
    }
   ],
   "source": [
    "print(my_variable)"
   ]
  },
  {
   "cell_type": "code",
   "execution_count": 39,
   "metadata": {},
   "outputs": [],
   "source": [
    "def scope_test2(my_variable):\n",
    "    my_variable = 5\n",
    "    \n",
    "    print(my_variable)\n",
    "    \n",
    "    return my_variable"
   ]
  },
  {
   "cell_type": "code",
   "execution_count": 40,
   "metadata": {},
   "outputs": [
    {
     "name": "stdout",
     "output_type": "stream",
     "text": [
      "5\n"
     ]
    }
   ],
   "source": [
    "my_variable = scope_test2(my_variable)"
   ]
  },
  {
   "cell_type": "code",
   "execution_count": 41,
   "metadata": {},
   "outputs": [
    {
     "data": {
      "text/plain": [
       "5"
      ]
     },
     "execution_count": 41,
     "metadata": {},
     "output_type": "execute_result"
    }
   ],
   "source": [
    "my_variable"
   ]
  },
  {
   "cell_type": "code",
   "execution_count": 42,
   "metadata": {},
   "outputs": [],
   "source": [
    "def circle_area(radius):\n",
    "    return math.pi*radius**2"
   ]
  },
  {
   "cell_type": "code",
   "execution_count": 43,
   "metadata": {},
   "outputs": [
    {
     "data": {
      "text/plain": [
       "3.141592653589793"
      ]
     },
     "execution_count": 43,
     "metadata": {},
     "output_type": "execute_result"
    }
   ],
   "source": [
    "circle_area(1)"
   ]
  },
  {
   "cell_type": "code",
   "execution_count": null,
   "metadata": {},
   "outputs": [],
   "source": []
  }
 ],
 "metadata": {
  "kernelspec": {
   "display_name": "Python 3",
   "language": "python",
   "name": "python3"
  },
  "language_info": {
   "codemirror_mode": {
    "name": "ipython",
    "version": 3
   },
   "file_extension": ".py",
   "mimetype": "text/x-python",
   "name": "python",
   "nbconvert_exporter": "python",
   "pygments_lexer": "ipython3",
   "version": "3.8.5"
  }
 },
 "nbformat": 4,
 "nbformat_minor": 2
}
