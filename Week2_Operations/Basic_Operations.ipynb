{
 "cells": [
  {
   "cell_type": "markdown",
   "metadata": {},
   "source": [
    "# Introduction\n",
    "\n",
    "Our goal for this week is to start to build on our familiarity with the Jupyter notebook interface and some of the basics of Python syntax. We will start with using Python as a calculator, before moving on to look at variables and data types. The readings for this week are: \n",
    "* [Chapter 3 of Problem Solving with Python](https://problemsolvingwithpython.com/03-The-Python-REPL/03.00-Introduction/)\n",
    "* [Chapater 1 of Automate the Boring Stuff](https://automatetheboringstuff.com/2e/chapter1/)"
   ]
  },
  {
   "cell_type": "markdown",
   "metadata": {},
   "source": [
    "# Arithmetic\n",
    "Python provides support for many common arithmetic operations like addition and multiplication. When run in a Jupyter cell, the output of the calculation is displayed below the cell. The computations follow the normal order of operations from algebra and parentheses can be used to group sub-calculations. Try changing some of the values and operations in the cells below and re-running them to get some practice. Don't worry if you make a mistake - errors are very common in programming, and learning to recover from them is an important part of this course. "
   ]
  },
  {
   "cell_type": "code",
   "execution_count": 1,
   "metadata": {},
   "outputs": [
    {
     "data": {
      "text/plain": [
       "3"
      ]
     },
     "execution_count": 1,
     "metadata": {},
     "output_type": "execute_result"
    }
   ],
   "source": [
    "1+2"
   ]
  },
  {
   "cell_type": "code",
   "execution_count": 2,
   "metadata": {},
   "outputs": [
    {
     "data": {
      "text/plain": [
       "-9"
      ]
     },
     "execution_count": 2,
     "metadata": {},
     "output_type": "execute_result"
    }
   ],
   "source": [
    "2-3*5+4"
   ]
  },
  {
   "cell_type": "code",
   "execution_count": 3,
   "metadata": {},
   "outputs": [
    {
     "data": {
      "text/plain": [
       "11"
      ]
     },
     "execution_count": 3,
     "metadata": {},
     "output_type": "execute_result"
    }
   ],
   "source": [
    "(12-6)+13-2**3"
   ]
  },
  {
   "cell_type": "markdown",
   "metadata": {},
   "source": [
    "The double asterisk operation in the previous cell is an exponent, so 2xx3 means 2 cubed, or eight. "
   ]
  },
  {
   "cell_type": "markdown",
   "metadata": {},
   "source": [
    "Cells can also contain multiple lines of code at once (we'll see a lot of this in other examples today). The lines are evaluated sequentially from top to bottom. In the notebook, the output only shows the output of the last line (oversimplification) but we can display the results of intermediate steps using the print command, as in the example below.  "
   ]
  },
  {
   "cell_type": "code",
   "execution_count": 4,
   "metadata": {},
   "outputs": [
    {
     "data": {
      "text/plain": [
       "12.25"
      ]
     },
     "execution_count": 4,
     "metadata": {},
     "output_type": "execute_result"
    }
   ],
   "source": [
    "12 + 5\n",
    "6-3\n",
    "147/12\n"
   ]
  },
  {
   "cell_type": "code",
   "execution_count": 5,
   "metadata": {},
   "outputs": [
    {
     "name": "stdout",
     "output_type": "stream",
     "text": [
      "17\n",
      "3\n",
      "12.25\n"
     ]
    }
   ],
   "source": [
    "print(12 + 5)\n",
    "print(6-3)\n",
    "print(147/12)\n"
   ]
  },
  {
   "cell_type": "markdown",
   "metadata": {},
   "source": [
    "# Variables \n",
    "Variables are containers that store data or other Python objects. For now, it is probably helpful to think of a variable as just giving a new name to an object, that we can use to refer to it later on. In Python, it is very easy to create new variables (equivalently, given new names to values) with the equals sign. We put the name of the variable on the left hand side of the equals sign and the value we want to store in that variable on the right hand side. In Jupyter notebooks, variables persist between cells once they've been evaluated. Try changing the value of `a` in the cell below and then run the next cell to see that the value has changed. \n"
   ]
  },
  {
   "cell_type": "code",
   "execution_count": 6,
   "metadata": {},
   "outputs": [],
   "source": [
    "a = 5"
   ]
  },
  {
   "cell_type": "code",
   "execution_count": 7,
   "metadata": {},
   "outputs": [
    {
     "data": {
      "text/plain": [
       "7"
      ]
     },
     "execution_count": 7,
     "metadata": {},
     "output_type": "execute_result"
    }
   ],
   "source": [
    "a+2"
   ]
  },
  {
   "cell_type": "markdown",
   "metadata": {},
   "source": [
    "While the value stored in the variable does persist between cells, we can also overwrite it with a new value later on. Try running the cell below and then running the cell above again. What changes?"
   ]
  },
  {
   "cell_type": "code",
   "execution_count": 8,
   "metadata": {},
   "outputs": [],
   "source": [
    "a=-1.5"
   ]
  },
  {
   "cell_type": "code",
   "execution_count": 9,
   "metadata": {},
   "outputs": [],
   "source": [
    "b = -3.2\n",
    "x = a*b"
   ]
  },
  {
   "cell_type": "markdown",
   "metadata": {},
   "source": [
    "Notice that nothing was output after the previous cell was run. This is because the final line of the cell was a variable assignment, not a computation, so there wasn't anything to display. However, as we can see in the cell below, x is now the name of the appropriate value. "
   ]
  },
  {
   "cell_type": "code",
   "execution_count": 10,
   "metadata": {},
   "outputs": [
    {
     "name": "stdout",
     "output_type": "stream",
     "text": [
      "4.800000000000001\n"
     ]
    }
   ],
   "source": [
    "print(x)"
   ]
  },
  {
   "cell_type": "markdown",
   "metadata": {},
   "source": [
    "Variable names don't have to be single letters, but they do have to start with a letter and only contain letters, numbers, and a few special characters like the underscore. Try inputting your favorite number below and add an additional print statement so that the result of each step of the calculation is displayed. "
   ]
  },
  {
   "cell_type": "code",
   "execution_count": 11,
   "metadata": {},
   "outputs": [
    {
     "name": "stdout",
     "output_type": "stream",
     "text": [
      "-18.0\n"
     ]
    },
    {
     "data": {
      "text/plain": [
       "-12.0"
      ]
     },
     "execution_count": 11,
     "metadata": {},
     "output_type": "execute_result"
    }
   ],
   "source": [
    "my_favorite_number = 12\n",
    "my_favorite_number = my_favorite_number * a\n",
    "print(my_favorite_number)\n",
    "my_favorite_number = my_favorite_number + 6\n",
    "my_favorite_number"
   ]
  },
  {
   "cell_type": "markdown",
   "metadata": {},
   "source": [
    "# Comparisons\n",
    "Comparisons between numbers, variables, and other python objects use syntax that will hopefully feel fairly natural. Equality is checked with two equal signs and inequality is checked with an exclamation mark followed by an equal sign. The inequality symbold < and > have their normal meanings.  The outputs of these comparisons are **Boolean values** which are either True or False."
   ]
  },
  {
   "cell_type": "code",
   "execution_count": 12,
   "metadata": {},
   "outputs": [
    {
     "name": "stdout",
     "output_type": "stream",
     "text": [
      "True\n",
      "False\n",
      "True\n",
      "True\n",
      "False\n",
      "True\n"
     ]
    }
   ],
   "source": [
    "print(1 == 1)\n",
    "print(1 == 2)\n",
    "print(1 != 2)\n",
    "print(-1 < 4)\n",
    "print(10 > 11)\n",
    "print(a<=7)"
   ]
  },
  {
   "cell_type": "markdown",
   "metadata": {},
   "source": [
    "# Strings\n",
    "Python provides several standard data types in addition to the numbers that we have been playing with so far.  The Boolean outputs of the comparison examples above are one example. In addition to these, we will also frequently use **strings** which are denoted by pairs of quotes. Strings are used to represent character and text data, like the inputs to the print functions that we looked at last week. "
   ]
  },
  {
   "cell_type": "code",
   "execution_count": 13,
   "metadata": {},
   "outputs": [
    {
     "data": {
      "text/plain": [
       "'This is a string'"
      ]
     },
     "execution_count": 13,
     "metadata": {},
     "output_type": "execute_result"
    }
   ],
   "source": [
    "'This is a string'"
   ]
  },
  {
   "cell_type": "code",
   "execution_count": 14,
   "metadata": {},
   "outputs": [
    {
     "data": {
      "text/plain": [
       "'This is also a string'"
      ]
     },
     "execution_count": 14,
     "metadata": {},
     "output_type": "execute_result"
    }
   ],
   "source": [
    "\"This is also a string\""
   ]
  },
  {
   "cell_type": "code",
   "execution_count": 15,
   "metadata": {},
   "outputs": [
    {
     "name": "stdout",
     "output_type": "stream",
     "text": [
      "Strings are easy to print!\n"
     ]
    }
   ],
   "source": [
    "print('Strings are easy to print!')"
   ]
  },
  {
   "cell_type": "code",
   "execution_count": 16,
   "metadata": {},
   "outputs": [
    {
     "data": {
      "text/plain": [
       "True"
      ]
     },
     "execution_count": 16,
     "metadata": {},
     "output_type": "execute_result"
    }
   ],
   "source": [
    "'This is a string' == \"This is a string\""
   ]
  },
  {
   "cell_type": "code",
   "execution_count": 17,
   "metadata": {},
   "outputs": [
    {
     "data": {
      "text/plain": [
       "False"
      ]
     },
     "execution_count": 17,
     "metadata": {},
     "output_type": "execute_result"
    }
   ],
   "source": [
    "\"1\" == 1"
   ]
  },
  {
   "cell_type": "markdown",
   "metadata": {},
   "source": [
    "The example in the previous cell shows that Python cares about the difference between strings and numbers. The operations we looked at above also give different answers when applied to strings. For example, `+` becomes concatenation. "
   ]
  },
  {
   "cell_type": "code",
   "execution_count": 18,
   "metadata": {},
   "outputs": [
    {
     "data": {
      "text/plain": [
       "'12'"
      ]
     },
     "execution_count": 18,
     "metadata": {},
     "output_type": "execute_result"
    }
   ],
   "source": [
    "\"1\" + \"2\""
   ]
  },
  {
   "cell_type": "code",
   "execution_count": 19,
   "metadata": {},
   "outputs": [
    {
     "name": "stdout",
     "output_type": "stream",
     "text": [
      "Cougars are great!\n"
     ]
    }
   ],
   "source": [
    "print(\"Cougars\" + \" are \" + \"great\" + \"!\")"
   ]
  },
  {
   "cell_type": "markdown",
   "metadata": {},
   "source": [
    "Variables can also contain strings using the same assignment syntax that we saw above for numeric values. "
   ]
  },
  {
   "cell_type": "code",
   "execution_count": 20,
   "metadata": {},
   "outputs": [],
   "source": [
    "first_string = \"Washington\"\n",
    "second_string = \"State\"\n",
    "third_string = \"University\"\n"
   ]
  },
  {
   "cell_type": "code",
   "execution_count": 21,
   "metadata": {},
   "outputs": [
    {
     "name": "stdout",
     "output_type": "stream",
     "text": [
      "WashingtonStateUniversity\n"
     ]
    }
   ],
   "source": [
    "print(first_string + second_string + third_string)"
   ]
  },
  {
   "cell_type": "markdown",
   "metadata": {},
   "source": [
    "Can you modify the cells above so that it prints with proper spacing?"
   ]
  },
  {
   "cell_type": "markdown",
   "metadata": {},
   "source": [
    "Sometimes we will want to make a string that contains the results of other variables we have previously defined. In Python we can create these as **f-strings** by placing the letter f (which stands for `format`) in front of the string and placing the variable in curly braces `{}`."
   ]
  },
  {
   "cell_type": "code",
   "execution_count": 22,
   "metadata": {},
   "outputs": [
    {
     "name": "stdout",
     "output_type": "stream",
     "text": [
      "Hi! My name is Daryl and I like the number 12.\n"
     ]
    }
   ],
   "source": [
    "my_name = \"Daryl\"\n",
    "my_favorite_number = 12\n",
    "print(f\"Hi! My name is {my_name} and I like the number {my_favorite_number}.\")"
   ]
  },
  {
   "cell_type": "markdown",
   "metadata": {},
   "source": [
    "# Errors\n",
    "Errors are a natural part of programming and not something to be worried about :) If you enter something that python doesn't know how to process correctly, it will return some text like the examples below. Since we haven't assigned `c` as a variable yet, it doesn't know what value to return. Similarly, python doesn't know how to combine a string and an integer with the `+` sign (although the last example shows that it views multiplication by an integer as repeated self-concatenation. What happens if you change 3 to 3.1?). The error text is supposed to be helpful in determining what went wrong but nothing is perfect. There are lots of different error types and sometimes it takes some iteration to figure out what went wrong and how to fix it. You can re-evaluate the cell after making changes to try and see if the error is fixed. "
   ]
  },
  {
   "cell_type": "code",
   "execution_count": 23,
   "metadata": {},
   "outputs": [
    {
     "ename": "NameError",
     "evalue": "name 'c' is not defined",
     "output_type": "error",
     "traceback": [
      "\u001b[1;31m---------------------------------------------------------------------------\u001b[0m",
      "\u001b[1;31mNameError\u001b[0m                                 Traceback (most recent call last)",
      "\u001b[1;32m<ipython-input-23-2924e7f7996a>\u001b[0m in \u001b[0;36m<module>\u001b[1;34m()\u001b[0m\n\u001b[1;32m----> 1\u001b[1;33m \u001b[0mc\u001b[0m\u001b[1;33m+\u001b[0m\u001b[1;36m2\u001b[0m\u001b[1;33m\u001b[0m\u001b[0m\n\u001b[0m",
      "\u001b[1;31mNameError\u001b[0m: name 'c' is not defined"
     ]
    }
   ],
   "source": [
    "c+2"
   ]
  },
  {
   "cell_type": "code",
   "execution_count": 24,
   "metadata": {},
   "outputs": [
    {
     "ename": "TypeError",
     "evalue": "must be str, not int",
     "output_type": "error",
     "traceback": [
      "\u001b[1;31m---------------------------------------------------------------------------\u001b[0m",
      "\u001b[1;31mTypeError\u001b[0m                                 Traceback (most recent call last)",
      "\u001b[1;32m<ipython-input-24-42900e6a255b>\u001b[0m in \u001b[0;36m<module>\u001b[1;34m()\u001b[0m\n\u001b[1;32m----> 1\u001b[1;33m \u001b[1;34m\"1\"\u001b[0m \u001b[1;33m+\u001b[0m \u001b[1;36m2\u001b[0m\u001b[1;33m\u001b[0m\u001b[0m\n\u001b[0m",
      "\u001b[1;31mTypeError\u001b[0m: must be str, not int"
     ]
    }
   ],
   "source": [
    "\"1\" + 2"
   ]
  },
  {
   "cell_type": "code",
   "execution_count": 25,
   "metadata": {},
   "outputs": [
    {
     "ename": "TypeError",
     "evalue": "unsupported operand type(s) for +: 'int' and 'str'",
     "output_type": "error",
     "traceback": [
      "\u001b[1;31m---------------------------------------------------------------------------\u001b[0m",
      "\u001b[1;31mTypeError\u001b[0m                                 Traceback (most recent call last)",
      "\u001b[1;32m<ipython-input-25-375ec8d4f3b9>\u001b[0m in \u001b[0;36m<module>\u001b[1;34m()\u001b[0m\n\u001b[1;32m----> 1\u001b[1;33m \u001b[1;36m2\u001b[0m \u001b[1;33m+\u001b[0m \u001b[1;34m\"1\"\u001b[0m\u001b[1;33m\u001b[0m\u001b[0m\n\u001b[0m",
      "\u001b[1;31mTypeError\u001b[0m: unsupported operand type(s) for +: 'int' and 'str'"
     ]
    }
   ],
   "source": [
    "2 + \"1\""
   ]
  },
  {
   "cell_type": "code",
   "execution_count": 26,
   "metadata": {},
   "outputs": [
    {
     "data": {
      "text/plain": [
       "'Hello! Hello! Hello! '"
      ]
     },
     "execution_count": 26,
     "metadata": {},
     "output_type": "execute_result"
    }
   ],
   "source": [
    "\"Hello! \" * 3"
   ]
  },
  {
   "cell_type": "markdown",
   "metadata": {},
   "source": [
    "# External Files\n",
    "Frequently we will want to write our data out to a separate file rather than displaying it to the screen. Python makes this easy to do with the `open()` and `write()` functions. We will use `open` to make a new file in our current directory and then use the `write` function to tell Python what to put in the file. `open` takes two arguments - the name of the file we want to create and the mode that we want to use for interacting with the file. To begin with, we will use the mode `w` which stands for write. After we write to the file, we need to close it."
   ]
  },
  {
   "cell_type": "code",
   "execution_count": 27,
   "metadata": {},
   "outputs": [],
   "source": [
    "my_new_file = open(\"first_file.txt\",\"w\")\n",
    "my_new_file.write(\"We just made a file!\\n:)\")\n",
    "my_new_file.close()"
   ]
  },
  {
   "cell_type": "markdown",
   "metadata": {},
   "source": [
    "After running the previous cell, you will find a new file called first_file.txt in the week2 directory. Opening it in your text editor will show: \n",
    "\n",
    "`We just made a file\n",
    ":)`\n",
    "\n",
    "Since the `\\n` character tells python to make a newline in the file. \n",
    "\n"
   ]
  },
  {
   "cell_type": "code",
   "execution_count": 28,
   "metadata": {},
   "outputs": [],
   "source": [
    "my_new_file = open(\"second_file.txt\",\"w\")\n",
    "my_new_file.write(f\"Hi! My name is {my_name} and I like the number {my_favorite_number}.\")\n",
    "my_new_file.close()"
   ]
  },
  {
   "cell_type": "markdown",
   "metadata": {},
   "source": [
    "We can also load in data from external files. We will use `open` with the `r` (for read) mode to access the file and then use the `read` function to extract its contents. "
   ]
  },
  {
   "cell_type": "code",
   "execution_count": 29,
   "metadata": {},
   "outputs": [],
   "source": [
    "data_file = open(\"./Data/strings_to_load.txt\",\"r\")\n",
    "output = data_file.read()\n",
    "data_file.close()"
   ]
  },
  {
   "cell_type": "code",
   "execution_count": 30,
   "metadata": {},
   "outputs": [
    {
     "name": "stdout",
     "output_type": "stream",
     "text": [
      "Loading in data is just as easy as writing it out!\n"
     ]
    }
   ],
   "source": [
    "print(output)"
   ]
  },
  {
   "cell_type": "code",
   "execution_count": 31,
   "metadata": {},
   "outputs": [],
   "source": [
    "data_file = open(\"second_file.txt\",\"r\")\n",
    "output = data_file.read()\n",
    "data_file.close()"
   ]
  },
  {
   "cell_type": "code",
   "execution_count": 33,
   "metadata": {},
   "outputs": [
    {
     "name": "stdout",
     "output_type": "stream",
     "text": [
      "Hi! My name is Daryl and I like the number 12.\n"
     ]
    }
   ],
   "source": [
    "print(output)"
   ]
  },
  {
   "cell_type": "markdown",
   "metadata": {},
   "source": [
    "Note that the strings_to_load.txt file was saved in a sub-directory of our main week2 folder. Keeping track of the locations of your files and their paths is very important! For more detailed discussion of this issue see [Chapter 9 of Automate the Boring Stuff](https://automatetheboringstuff.com/2e/chapter9/)."
   ]
  },
  {
   "cell_type": "code",
   "execution_count": null,
   "metadata": {},
   "outputs": [],
   "source": []
  }
 ],
 "metadata": {
  "kernelspec": {
   "display_name": "Python 3",
   "language": "python",
   "name": "python3"
  },
  "language_info": {
   "codemirror_mode": {
    "name": "ipython",
    "version": 3
   },
   "file_extension": ".py",
   "mimetype": "text/x-python",
   "name": "python",
   "nbconvert_exporter": "python",
   "pygments_lexer": "ipython3",
   "version": "3.6.5"
  }
 },
 "nbformat": 4,
 "nbformat_minor": 2
}
