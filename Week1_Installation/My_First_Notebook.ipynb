{
 "cells": [
  {
   "cell_type": "markdown",
   "metadata": {},
   "source": [
    "# Introduction"
   ]
  },
  {
   "cell_type": "markdown",
   "metadata": {},
   "source": [
    "The basic objects of a Jupyter notebook are \"cells\" or independent blocks of code. The cells in a notebook come in two types: text based cells like this one and ones that evaluate python code like the one below. You can edit the entries of a cell by clicking with your mouse and evaluate the contents by either holding the shift key and hitting Enter or clicking the run button at the top of the screen. The output of the code block will display below the cell while text based cells like this are processed with Markdown which creates nicely formatted outputs. You can find more description of the Markdown syntax options [at this link](https://jupyter-notebook.readthedocs.io/en/stable/examples/Notebook/Working%20With%20Markdown%20Cells.html)."
   ]
  },
  {
   "cell_type": "code",
   "execution_count": 1,
   "metadata": {},
   "outputs": [
    {
     "name": "stdout",
     "output_type": "stream",
     "text": [
      "Hello, world!\n"
     ]
    }
   ],
   "source": [
    "print(\"Hello, world!\")"
   ]
  },
  {
   "cell_type": "markdown",
   "metadata": {},
   "source": [
    "As you have probably guessed, the `print` command tells python to display the text inside the parentheses to the screen. This is our first example of a function, and one that we will use a lot throughout the course. "
   ]
  },
  {
   "cell_type": "markdown",
   "metadata": {},
   "source": [
    "# Try it out!"
   ]
  },
  {
   "cell_type": "markdown",
   "metadata": {},
   "source": [
    "The menus at the top of the screen offer many helpful options for working with notebooks. There are also keyboard shortcuts for almost all of the common operations that we will use. You can view these by clicking the keyboard icon to the right of the toolbar at the top of the screen. Another nice feature of notebooks is that they can be exported to a variety of flexible formats. Using File -> Download as -> HTML will export a webpage that can be opened in your browser containing all of the content of the notebook. **Assignment** Try adding two cells below, one for markdown text and another for python code. In both cells, type print(\"Hello!\"). What happens?"
   ]
  }
 ],
 "metadata": {
  "kernelspec": {
   "display_name": "Python 3",
   "language": "python",
   "name": "python3"
  },
  "language_info": {
   "codemirror_mode": {
    "name": "ipython",
    "version": 3
   },
   "file_extension": ".py",
   "mimetype": "text/x-python",
   "name": "python",
   "nbconvert_exporter": "python",
   "pygments_lexer": "ipython3",
   "version": "3.6.5"
  }
 },
 "nbformat": 4,
 "nbformat_minor": 2
}
