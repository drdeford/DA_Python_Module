{
 "cells": [
  {
   "cell_type": "markdown",
   "metadata": {},
   "source": [
    "# Introduction\n",
    "\n",
    "This week we are going to look at a few more complex packages for doing statistics and machine learning in Python. One of the key packages for scientific work in python is called scipy (normally abbreviated sp), which provides a wide variety of functions for doing common technical work, including statistical methods. On the machine learning side, the scikitlearn package (abbreviated skl) provides relatively efficient implementations of many methods for analyzing datasets. For both of these packages, the syntax within families of methods is reasonably consistent, so we will explore one example each to provide an overview of the main interaction styles. For scipy, we will work with the scipy.stats package and fitting normal distributions, while for scikitlearn we will look at some examples of linear regression. Both of these settings are also nice introductions to the object-oriented perspective in python programming. \n",
    "\n",
    "The reading for this week is: \n",
    "* [Chapter 5 of the Python Data Science Handbook](https://jakevdp.github.io/PythonDataScienceHandbook/05.00-machine-learning.html)\n",
    "* The .pdf in this folder gives additional examples of the scipy.stats syntax\n"
   ]
  },
  {
   "cell_type": "markdown",
   "metadata": {},
   "source": [
    "Very early on in this module we looked at the random package for generating uniform random number on an interval but for many real-world applications we need more complex distributions. One of the most common distributions for modeling is the normal (or gaussian) distribution, which forms the bell-curve shape seen in many distributions. "
   ]
  },
  {
   "cell_type": "code",
   "execution_count": 18,
   "metadata": {},
   "outputs": [],
   "source": [
    "from scipy.stats import norm, probplot\n",
    "import numpy as np\n",
    "import matplotlib.pyplot as plt\n",
    "import pandas as pd"
   ]
  },
  {
   "cell_type": "code",
   "execution_count": 2,
   "metadata": {},
   "outputs": [],
   "source": [
    "my_normal = norm(loc=-1,scale=3)"
   ]
  },
  {
   "cell_type": "code",
   "execution_count": 3,
   "metadata": {},
   "outputs": [],
   "source": [
    "draws = my_normal.rvs(size=[5000,1])"
   ]
  },
  {
   "cell_type": "code",
   "execution_count": 4,
   "metadata": {},
   "outputs": [
    {
     "data": {
      "text/plain": [
       "[<matplotlib.lines.Line2D at 0x245fe9e2eb8>]"
      ]
     },
     "execution_count": 4,
     "metadata": {},
     "output_type": "execute_result"
    },
    {
     "data": {
      "image/png": "[encoded data removed]",
      "text/plain": [
       "<Figure size 432x288 with 1 Axes>"
      ]
     },
     "metadata": {
      "needs_background": "light"
     },
     "output_type": "display_data"
    }
   ],
   "source": [
    "plt.hist(draws,density=True,bins=100)\n",
    "plt.plot(np.linspace(-10,9,100),my_normal.pdf(np.linspace(-10,9,100)),'r-')"
   ]
  },
  {
   "cell_type": "code",
   "execution_count": 5,
   "metadata": {},
   "outputs": [
    {
     "data": {
      "text/plain": [
       "-1.0379613426770669"
      ]
     },
     "execution_count": 5,
     "metadata": {},
     "output_type": "execute_result"
    }
   ],
   "source": [
    "draws.mean()"
   ]
  },
  {
   "cell_type": "code",
   "execution_count": 6,
   "metadata": {},
   "outputs": [
    {
     "data": {
      "text/plain": [
       "3.027706203494834"
      ]
     },
     "execution_count": 6,
     "metadata": {},
     "output_type": "execute_result"
    }
   ],
   "source": [
    "draws.std()"
   ]
  },
  {
   "cell_type": "code",
   "execution_count": 7,
   "metadata": {},
   "outputs": [
    {
     "data": {
      "text/plain": [
       "0.08065690817304778"
      ]
     },
     "execution_count": 7,
     "metadata": {},
     "output_type": "execute_result"
    }
   ],
   "source": [
    "my_normal.pdf(-4)"
   ]
  },
  {
   "cell_type": "code",
   "execution_count": 8,
   "metadata": {},
   "outputs": [
    {
     "data": {
      "text/plain": [
       "-5.934560880854418"
      ]
     },
     "execution_count": 8,
     "metadata": {},
     "output_type": "execute_result"
    }
   ],
   "source": [
    "my_normal.ppf(.05)"
   ]
  },
  {
   "cell_type": "code",
   "execution_count": 9,
   "metadata": {},
   "outputs": [
    {
     "data": {
      "text/plain": [
       "-1.0"
      ]
     },
     "execution_count": 9,
     "metadata": {},
     "output_type": "execute_result"
    }
   ],
   "source": [
    "my_normal.ppf(.5)"
   ]
  },
  {
   "cell_type": "code",
   "execution_count": 10,
   "metadata": {},
   "outputs": [
    {
     "data": {
      "text/plain": [
       "5.979043622122522"
      ]
     },
     "execution_count": 10,
     "metadata": {},
     "output_type": "execute_result"
    }
   ],
   "source": [
    "my_normal.ppf(.99)\n"
   ]
  },
  {
   "cell_type": "code",
   "execution_count": 11,
   "metadata": {},
   "outputs": [
    {
     "data": {
      "text/plain": [
       "0.36944134018176367"
      ]
     },
     "execution_count": 11,
     "metadata": {},
     "output_type": "execute_result"
    }
   ],
   "source": [
    "my_normal.cdf(-2)"
   ]
  },
  {
   "cell_type": "code",
   "execution_count": 12,
   "metadata": {},
   "outputs": [
    {
     "data": {
      "text/plain": [
       "0.8413447460685429"
      ]
     },
     "execution_count": 12,
     "metadata": {},
     "output_type": "execute_result"
    }
   ],
   "source": [
    "my_normal.cdf(2)"
   ]
  },
  {
   "cell_type": "code",
   "execution_count": 13,
   "metadata": {},
   "outputs": [
    {
     "data": {
      "text/plain": [
       "0.47190340588677926"
      ]
     },
     "execution_count": 13,
     "metadata": {},
     "output_type": "execute_result"
    }
   ],
   "source": [
    "my_normal.cdf(2) - my_normal.cdf(-2)"
   ]
  },
  {
   "cell_type": "code",
   "execution_count": 14,
   "metadata": {},
   "outputs": [
    {
     "data": {
      "text/plain": [
       "0.15865525393145707"
      ]
     },
     "execution_count": 14,
     "metadata": {},
     "output_type": "execute_result"
    }
   ],
   "source": [
    "1 - my_normal.cdf(2)"
   ]
  },
  {
   "cell_type": "code",
   "execution_count": 17,
   "metadata": {},
   "outputs": [
    {
     "data": {
      "text/plain": [
       "((array([-3.63568806, -3.40036853, -3.27067228, ...,  3.27067228,\n",
       "          3.40036853,  3.63568806]),\n",
       "  array([-11.61122741, -11.41539057, -11.36629575, ...,   8.91184014,\n",
       "           9.63751008,  10.00556217])),\n",
       " (3.0289183737361722, -1.0379613426770673, 0.9997329250456046))"
      ]
     },
     "execution_count": 17,
     "metadata": {},
     "output_type": "execute_result"
    },
    {
     "data": {
      "image/png": "[encoded data removed]",
      "text/plain": [
       "<Figure size 432x288 with 1 Axes>"
      ]
     },
     "metadata": {
      "needs_background": "light"
     },
     "output_type": "display_data"
    }
   ],
   "source": [
    "probplot(draws[:,0],plot=plt)\n"
   ]
  },
  {
   "cell_type": "code",
   "execution_count": 19,
   "metadata": {},
   "outputs": [],
   "source": [
    "HWAS = pd.read_csv(\"../Week5_Pandas/Height_Weight_Age_Sex.csv\")"
   ]
  },
  {
   "cell_type": "code",
   "execution_count": 22,
   "metadata": {},
   "outputs": [
    {
     "data": {
      "text/plain": [
       "138.2635963235294"
      ]
     },
     "execution_count": 22,
     "metadata": {},
     "output_type": "execute_result"
    }
   ],
   "source": [
    "HWAS['height'].mean()"
   ]
  },
  {
   "cell_type": "code",
   "execution_count": 23,
   "metadata": {},
   "outputs": [
    {
     "data": {
      "text/plain": [
       "27.602447640564694"
      ]
     },
     "execution_count": 23,
     "metadata": {},
     "output_type": "execute_result"
    }
   ],
   "source": [
    "HWAS['height'].std()"
   ]
  },
  {
   "cell_type": "code",
   "execution_count": 30,
   "metadata": {},
   "outputs": [
    {
     "data": {
      "text/plain": [
       "[<matplotlib.lines.Line2D at 0x245a5763a58>]"
      ]
     },
     "execution_count": 30,
     "metadata": {},
     "output_type": "execute_result"
    },
    {
     "data": {
      "image/png": "[encoded data removed]",
      "text/plain": [
       "<Figure size 432x288 with 1 Axes>"
      ]
     },
     "metadata": {
      "needs_background": "light"
     },
     "output_type": "display_data"
    }
   ],
   "source": [
    "height_norm = norm(loc=138.2635963235294,scale=27.602447640564694)\n",
    "plt.hist(HWAS['height'],density=True,bins=100)\n",
    "plt.plot(np.linspace(50,180,2000),height_norm.pdf(np.linspace(50,180,2000)),'r-')\n"
   ]
  },
  {
   "cell_type": "code",
   "execution_count": 57,
   "metadata": {},
   "outputs": [
    {
     "data": {
      "text/plain": [
       "((array([-3.01773531e+00, -2.73799433e+00, -2.58085770e+00, -2.46951789e+00,\n",
       "         -2.38232877e+00, -2.31019183e+00, -2.24838671e+00, -2.19413721e+00,\n",
       "         -2.14566704e+00, -2.10176852e+00, -2.06158185e+00, -2.02447240e+00,\n",
       "         -1.98995789e+00, -1.95766291e+00, -1.92728931e+00, -1.89859618e+00,\n",
       "         -1.87138601e+00, -1.84549475e+00, -1.82078459e+00, -1.79713864e+00,\n",
       "         -1.77445682e+00, -1.75265279e+00, -1.73165151e+00, -1.71138733e+00,\n",
       "         -1.69180248e+00, -1.67284585e+00, -1.65447198e+00, -1.63664027e+00,\n",
       "         -1.61931427e+00, -1.60246117e+00, -1.58605130e+00, -1.57005774e+00,\n",
       "         -1.55445600e+00, -1.53922371e+00, -1.52434042e+00, -1.50978732e+00,\n",
       "         -1.49554714e+00, -1.48160393e+00, -1.46794296e+00, -1.45455057e+00,\n",
       "         -1.44141410e+00, -1.42852177e+00, -1.41586259e+00, -1.40342633e+00,\n",
       "         -1.39120342e+00, -1.37918489e+00, -1.36736234e+00, -1.35572788e+00,\n",
       "         -1.34427409e+00, -1.33299398e+00, -1.32188099e+00, -1.31092889e+00,\n",
       "         -1.30013182e+00, -1.28948422e+00, -1.27898083e+00, -1.26861668e+00,\n",
       "         -1.25838704e+00, -1.24828741e+00, -1.23831353e+00, -1.22846134e+00,\n",
       "         -1.21872697e+00, -1.20910673e+00, -1.19959711e+00, -1.19019475e+00,\n",
       "         -1.18089645e+00, -1.17169915e+00, -1.16259990e+00, -1.15359591e+00,\n",
       "         -1.14468448e+00, -1.13586304e+00, -1.12712912e+00, -1.11848034e+00,\n",
       "         -1.10991442e+00, -1.10142918e+00, -1.09302251e+00, -1.08469239e+00,\n",
       "         -1.07643686e+00, -1.06825405e+00, -1.06014214e+00, -1.05209941e+00,\n",
       "         -1.04412416e+00, -1.03621478e+00, -1.02836969e+00, -1.02058739e+00,\n",
       "         -1.01286642e+00, -1.00520536e+00, -9.97602845e-01, -9.90057558e-01,\n",
       "         -9.82568220e-01, -9.75133592e-01, -9.67752477e-01, -9.60423713e-01,\n",
       "         -9.53146174e-01, -9.45918769e-01, -9.38740440e-01, -9.31610160e-01,\n",
       "         -9.24526932e-01, -9.17489788e-01, -9.10497789e-01, -9.03550022e-01,\n",
       "         -8.96645599e-01, -8.89783657e-01, -8.82963359e-01, -8.76183887e-01,\n",
       "         -8.69444449e-01, -8.62744272e-01, -8.56082603e-01, -8.49458710e-01,\n",
       "         -8.42871880e-01, -8.36321417e-01, -8.29806645e-01, -8.23326903e-01,\n",
       "         -8.16881547e-01, -8.10469949e-01, -8.04091497e-01, -7.97745592e-01,\n",
       "         -7.91431652e-01, -7.85149106e-01, -7.78897398e-01, -7.72675985e-01,\n",
       "         -7.66484337e-01, -7.60321935e-01, -7.54188272e-01, -7.48082852e-01,\n",
       "         -7.42005192e-01, -7.35954817e-01, -7.29931264e-01, -7.23934080e-01,\n",
       "         -7.17962820e-01, -7.12017051e-01, -7.06096348e-01, -7.00200294e-01,\n",
       "         -6.94328481e-01, -6.88480511e-01, -6.82655991e-01, -6.76854539e-01,\n",
       "         -6.71075779e-01, -6.65319343e-01, -6.59584869e-01, -6.53872004e-01,\n",
       "         -6.48180399e-01, -6.42509715e-01, -6.36859618e-01, -6.31229778e-01,\n",
       "         -6.25619875e-01, -6.20029591e-01, -6.14458618e-01, -6.08906650e-01,\n",
       "         -6.03373388e-01, -5.97858538e-01, -5.92361812e-01, -5.86882925e-01,\n",
       "         -5.81421599e-01, -5.75977560e-01, -5.70550539e-01, -5.65140269e-01,\n",
       "         -5.59746492e-01, -5.54368950e-01, -5.49007393e-01, -5.43661570e-01,\n",
       "         -5.38331240e-01, -5.33016161e-01, -5.27716098e-01, -5.22430817e-01,\n",
       "         -5.17160090e-01, -5.11903691e-01, -5.06661397e-01, -5.01432991e-01,\n",
       "         -4.96218257e-01, -4.91016981e-01, -4.85828956e-01, -4.80653974e-01,\n",
       "         -4.75491832e-01, -4.70342331e-01, -4.65205271e-01, -4.60080459e-01,\n",
       "         -4.54967701e-01, -4.49866810e-01, -4.44777596e-01, -4.39699877e-01,\n",
       "         -4.34633469e-01, -4.29578193e-01, -4.24533872e-01, -4.19500330e-01,\n",
       "         -4.14477394e-01, -4.09464894e-01, -4.04462661e-01, -3.99470528e-01,\n",
       "         -3.94488330e-01, -3.89515906e-01, -3.84553093e-01, -3.79599735e-01,\n",
       "         -3.74655672e-01, -3.69720751e-01, -3.64794817e-01, -3.59877719e-01,\n",
       "         -3.54969307e-01, -3.50069432e-01, -3.45177948e-01, -3.40294708e-01,\n",
       "         -3.35419570e-01, -3.30552391e-01, -3.25693030e-01, -3.20841347e-01,\n",
       "         -3.15997205e-01, -3.11160467e-01, -3.06330998e-01, -3.01508662e-01,\n",
       "         -2.96693328e-01, -2.91884864e-01, -2.87083139e-01, -2.82288024e-01,\n",
       "         -2.77499391e-01, -2.72717113e-01, -2.67941064e-01, -2.63171120e-01,\n",
       "         -2.58407155e-01, -2.53649048e-01, -2.48896677e-01, -2.44149920e-01,\n",
       "         -2.39408658e-01, -2.34672772e-01, -2.29942143e-01, -2.25216655e-01,\n",
       "         -2.20496190e-01, -2.15780634e-01, -2.11069871e-01, -2.06363787e-01,\n",
       "         -2.01662270e-01, -1.96965205e-01, -1.92272482e-01, -1.87583990e-01,\n",
       "         -1.82899617e-01, -1.78219255e-01, -1.73542793e-01, -1.68870124e-01,\n",
       "         -1.64201138e-01, -1.59535730e-01, -1.54873791e-01, -1.50215216e-01,\n",
       "         -1.45559899e-01, -1.40907734e-01, -1.36258616e-01, -1.31612442e-01,\n",
       "         -1.26969108e-01, -1.22328509e-01, -1.17690543e-01, -1.13055108e-01,\n",
       "         -1.08422100e-01, -1.03791419e-01, -9.91629620e-02, -9.45366285e-02,\n",
       "         -8.99123174e-02, -8.52899283e-02, -8.06693608e-02, -7.60505150e-02,\n",
       "         -7.14332910e-02, -6.68175894e-02, -6.22033109e-02, -5.75903565e-02,\n",
       "         -5.29786272e-02, -4.83680244e-02, -4.37584495e-02, -3.91498043e-02,\n",
       "         -3.45419904e-02, -2.99349098e-02, -2.53284645e-02, -2.07225566e-02,\n",
       "         -1.61170883e-02, -1.15119618e-02, -6.90707946e-03, -2.30234355e-03,\n",
       "          2.30234355e-03,  6.90707946e-03,  1.15119618e-02,  1.61170883e-02,\n",
       "          2.07225566e-02,  2.53284645e-02,  2.99349098e-02,  3.45419904e-02,\n",
       "          3.91498043e-02,  4.37584495e-02,  4.83680244e-02,  5.29786272e-02,\n",
       "          5.75903565e-02,  6.22033109e-02,  6.68175894e-02,  7.14332910e-02,\n",
       "          7.60505150e-02,  8.06693608e-02,  8.52899283e-02,  8.99123174e-02,\n",
       "          9.45366285e-02,  9.91629620e-02,  1.03791419e-01,  1.08422100e-01,\n",
       "          1.13055108e-01,  1.17690543e-01,  1.22328509e-01,  1.26969108e-01,\n",
       "          1.31612442e-01,  1.36258616e-01,  1.40907734e-01,  1.45559899e-01,\n",
       "          1.50215216e-01,  1.54873791e-01,  1.59535730e-01,  1.64201138e-01,\n",
       "          1.68870124e-01,  1.73542793e-01,  1.78219255e-01,  1.82899617e-01,\n",
       "          1.87583990e-01,  1.92272482e-01,  1.96965205e-01,  2.01662270e-01,\n",
       "          2.06363787e-01,  2.11069871e-01,  2.15780634e-01,  2.20496190e-01,\n",
       "          2.25216655e-01,  2.29942143e-01,  2.34672772e-01,  2.39408658e-01,\n",
       "          2.44149920e-01,  2.48896677e-01,  2.53649048e-01,  2.58407155e-01,\n",
       "          2.63171120e-01,  2.67941064e-01,  2.72717113e-01,  2.77499391e-01,\n",
       "          2.82288024e-01,  2.87083139e-01,  2.91884864e-01,  2.96693328e-01,\n",
       "          3.01508662e-01,  3.06330998e-01,  3.11160467e-01,  3.15997205e-01,\n",
       "          3.20841347e-01,  3.25693030e-01,  3.30552391e-01,  3.35419570e-01,\n",
       "          3.40294708e-01,  3.45177948e-01,  3.50069432e-01,  3.54969307e-01,\n",
       "          3.59877719e-01,  3.64794817e-01,  3.69720751e-01,  3.74655672e-01,\n",
       "          3.79599735e-01,  3.84553093e-01,  3.89515906e-01,  3.94488330e-01,\n",
       "          3.99470528e-01,  4.04462661e-01,  4.09464894e-01,  4.14477394e-01,\n",
       "          4.19500330e-01,  4.24533872e-01,  4.29578193e-01,  4.34633469e-01,\n",
       "          4.39699877e-01,  4.44777596e-01,  4.49866810e-01,  4.54967701e-01,\n",
       "          4.60080459e-01,  4.65205271e-01,  4.70342331e-01,  4.75491832e-01,\n",
       "          4.80653974e-01,  4.85828956e-01,  4.91016981e-01,  4.96218257e-01,\n",
       "          5.01432991e-01,  5.06661397e-01,  5.11903691e-01,  5.17160090e-01,\n",
       "          5.22430817e-01,  5.27716098e-01,  5.33016161e-01,  5.38331240e-01,\n",
       "          5.43661570e-01,  5.49007393e-01,  5.54368950e-01,  5.59746492e-01,\n",
       "          5.65140269e-01,  5.70550539e-01,  5.75977560e-01,  5.81421599e-01,\n",
       "          5.86882925e-01,  5.92361812e-01,  5.97858538e-01,  6.03373388e-01,\n",
       "          6.08906650e-01,  6.14458618e-01,  6.20029591e-01,  6.25619875e-01,\n",
       "          6.31229778e-01,  6.36859618e-01,  6.42509715e-01,  6.48180399e-01,\n",
       "          6.53872004e-01,  6.59584869e-01,  6.65319343e-01,  6.71075779e-01,\n",
       "          6.76854539e-01,  6.82655991e-01,  6.88480511e-01,  6.94328481e-01,\n",
       "          7.00200294e-01,  7.06096348e-01,  7.12017051e-01,  7.17962820e-01,\n",
       "          7.23934080e-01,  7.29931264e-01,  7.35954817e-01,  7.42005192e-01,\n",
       "          7.48082852e-01,  7.54188272e-01,  7.60321935e-01,  7.66484337e-01,\n",
       "          7.72675985e-01,  7.78897398e-01,  7.85149106e-01,  7.91431652e-01,\n",
       "          7.97745592e-01,  8.04091497e-01,  8.10469949e-01,  8.16881547e-01,\n",
       "          8.23326903e-01,  8.29806645e-01,  8.36321417e-01,  8.42871880e-01,\n",
       "          8.49458710e-01,  8.56082603e-01,  8.62744272e-01,  8.69444449e-01,\n",
       "          8.76183887e-01,  8.82963359e-01,  8.89783657e-01,  8.96645599e-01,\n",
       "          9.03550022e-01,  9.10497789e-01,  9.17489788e-01,  9.24526932e-01,\n",
       "          9.31610160e-01,  9.38740440e-01,  9.45918769e-01,  9.53146174e-01,\n",
       "          9.60423713e-01,  9.67752477e-01,  9.75133592e-01,  9.82568220e-01,\n",
       "          9.90057558e-01,  9.97602845e-01,  1.00520536e+00,  1.01286642e+00,\n",
       "          1.02058739e+00,  1.02836969e+00,  1.03621478e+00,  1.04412416e+00,\n",
       "          1.05209941e+00,  1.06014214e+00,  1.06825405e+00,  1.07643686e+00,\n",
       "          1.08469239e+00,  1.09302251e+00,  1.10142918e+00,  1.10991442e+00,\n",
       "          1.11848034e+00,  1.12712912e+00,  1.13586304e+00,  1.14468448e+00,\n",
       "          1.15359591e+00,  1.16259990e+00,  1.17169915e+00,  1.18089645e+00,\n",
       "          1.19019475e+00,  1.19959711e+00,  1.20910673e+00,  1.21872697e+00,\n",
       "          1.22846134e+00,  1.23831353e+00,  1.24828741e+00,  1.25838704e+00,\n",
       "          1.26861668e+00,  1.27898083e+00,  1.28948422e+00,  1.30013182e+00,\n",
       "          1.31092889e+00,  1.32188099e+00,  1.33299398e+00,  1.34427409e+00,\n",
       "          1.35572788e+00,  1.36736234e+00,  1.37918489e+00,  1.39120342e+00,\n",
       "          1.40342633e+00,  1.41586259e+00,  1.42852177e+00,  1.44141410e+00,\n",
       "          1.45455057e+00,  1.46794296e+00,  1.48160393e+00,  1.49554714e+00,\n",
       "          1.50978732e+00,  1.52434042e+00,  1.53922371e+00,  1.55445600e+00,\n",
       "          1.57005774e+00,  1.58605130e+00,  1.60246117e+00,  1.61931427e+00,\n",
       "          1.63664027e+00,  1.65447198e+00,  1.67284585e+00,  1.69180248e+00,\n",
       "          1.71138733e+00,  1.73165151e+00,  1.75265279e+00,  1.77445682e+00,\n",
       "          1.79713864e+00,  1.82078459e+00,  1.84549475e+00,  1.87138601e+00,\n",
       "          1.89859618e+00,  1.92728931e+00,  1.95766291e+00,  1.98995789e+00,\n",
       "          2.02447240e+00,  2.06158185e+00,  2.10176852e+00,  2.14566704e+00,\n",
       "          2.19413721e+00,  2.24838671e+00,  2.31019183e+00,  2.38232877e+00,\n",
       "          2.46951789e+00,  2.58085770e+00,  2.73799433e+00,  3.01773531e+00]),\n",
       "  array([ 53.975 ,  55.88  ,  56.515 ,  59.6138,  60.452 ,  60.96  ,\n",
       "          62.23  ,  62.484 ,  62.865 ,  64.135 ,  66.04  ,  66.675 ,\n",
       "          67.31  ,  67.945 ,  67.945 ,  67.945 ,  68.58  ,  69.85  ,\n",
       "          69.85  ,  71.12  ,  71.12  ,  71.755 ,  74.295 ,  74.295 ,\n",
       "          74.93  ,  76.2   ,  76.2   ,  76.835 ,  78.105 ,  80.01  ,\n",
       "          81.28  ,  81.5848,  81.915 ,  83.185 ,  83.82  ,  83.82  ,\n",
       "          84.455 ,  84.455 ,  85.09  ,  85.09  ,  85.09  ,  85.09  ,\n",
       "          86.36  ,  86.36  ,  87.63  ,  88.265 ,  88.9   ,  88.9   ,\n",
       "          89.2048,  89.535 ,  90.17  ,  90.805 ,  90.805 ,  91.44  ,\n",
       "          91.44  ,  91.44  ,  91.44  ,  91.44  ,  92.71  ,  92.71  ,\n",
       "          92.71  ,  93.345 ,  93.345 ,  93.98  ,  93.98  ,  94.615 ,\n",
       "          96.52  ,  96.52  ,  96.52  ,  97.155 ,  97.79  ,  97.79  ,\n",
       "          97.9932,  99.695 , 100.076 , 100.965 , 100.965 , 100.965 ,\n",
       "         101.6   , 101.6   , 101.6   , 102.235 , 103.505 , 104.14  ,\n",
       "         105.41  , 105.41  , 106.045 , 106.045 , 106.68  , 107.95  ,\n",
       "         109.22  , 109.22  , 110.49  , 110.49  , 111.125 , 111.125 ,\n",
       "         111.125 , 111.125 , 111.76  , 111.76  , 111.76  , 113.03  ,\n",
       "         113.03  , 113.665 , 113.665 , 114.3   , 114.3   , 114.3   ,\n",
       "         114.3   , 114.3   , 114.3   , 114.935 , 115.6   , 116.84  ,\n",
       "         117.983 , 117.983 , 118.11  , 118.745 , 119.38  , 120.015 ,\n",
       "         120.65  , 120.65  , 121.92  , 121.92  , 121.92  , 121.92  ,\n",
       "         121.92  , 123.19  , 123.19  , 123.825 , 123.825 , 123.825 ,\n",
       "         124.46  , 124.46  , 124.9934, 125.095 , 125.095 , 125.3998,\n",
       "         125.73  , 126.365 , 127.    , 127.    , 127.    , 127.635 ,\n",
       "         127.9906, 128.905 , 129.54  , 129.54  , 129.54  , 129.54  ,\n",
       "         130.6068, 131.445 , 132.08  , 132.08  , 132.715 , 132.715 ,\n",
       "         133.35  , 133.985 , 133.985 , 134.62  , 135.89  , 136.525 ,\n",
       "         136.525 , 137.16  , 137.16  , 137.16  , 137.16  , 137.795 ,\n",
       "         138.43  , 139.065 , 139.7   , 139.7   , 139.7   , 140.0048,\n",
       "         140.335 , 140.335 , 140.6398, 140.97  , 141.605 , 141.605 ,\n",
       "         141.605 , 141.605 , 141.605 , 141.605 , 142.113 , 142.24  ,\n",
       "         142.24  , 142.875 , 142.875 , 142.875 , 142.875 , 142.875 ,\n",
       "         142.875 , 142.875 , 142.875 , 142.875 , 143.51  , 143.51  ,\n",
       "         143.51  , 143.51  , 143.51  , 143.9418, 144.145 , 144.145 ,\n",
       "         144.145 , 144.145 , 144.145 , 144.78  , 144.78  , 144.78  ,\n",
       "         144.78  , 144.78  , 144.78  , 144.78  , 144.78  , 145.415 ,\n",
       "         145.415 , 145.415 , 145.415 , 145.415 , 145.415 , 145.415 ,\n",
       "         145.415 , 145.415 , 145.415 , 145.415 , 146.05  , 146.05  ,\n",
       "         146.05  , 146.05  , 146.05  , 146.05  , 146.05  , 146.05  ,\n",
       "         146.05  , 146.05  , 146.4   , 146.685 , 146.685 , 146.685 ,\n",
       "         146.7   , 146.7   , 147.32  , 147.32  , 147.32  , 147.32  ,\n",
       "         147.32  , 147.32  , 147.32  , 147.32  , 147.32  , 147.32  ,\n",
       "         147.32  , 147.955 , 147.955 , 147.955 , 147.955 , 147.955 ,\n",
       "         147.955 , 147.955 , 147.955 , 147.955 , 147.955 , 147.955 ,\n",
       "         147.955 , 147.955 , 147.955 , 148.2852, 148.59  , 148.59  ,\n",
       "         148.59  , 148.59  , 148.59  , 148.59  , 148.59  , 148.59  ,\n",
       "         148.59  , 149.225 , 149.225 , 149.225 , 149.225 , 149.225 ,\n",
       "         149.225 , 149.225 , 149.225 , 149.225 , 149.225 , 149.225 ,\n",
       "         149.225 , 149.225 , 149.86  , 149.86  , 149.86  , 149.86  ,\n",
       "         149.86  , 149.86  , 149.86  , 149.86  , 149.86  , 149.86  ,\n",
       "         149.86  , 149.9   , 150.1648, 150.495 , 150.495 , 150.495 ,\n",
       "         150.495 , 150.495 , 150.495 , 150.495 , 151.13  , 151.13  ,\n",
       "         151.13  , 151.13  , 151.13  , 151.13  , 151.13  , 151.765 ,\n",
       "         151.765 , 151.765 , 151.765 , 151.765 , 151.765 , 151.765 ,\n",
       "         151.765 , 151.765 , 151.9428, 151.9936, 152.4   , 152.4   ,\n",
       "         152.4   , 152.4   , 152.4   , 152.4   , 152.4   , 152.4   ,\n",
       "         152.4   , 152.4   , 152.4   , 152.4   , 152.4   , 152.4   ,\n",
       "         152.4   , 152.7048, 153.035 , 153.035 , 153.035 , 153.035 ,\n",
       "         153.035 , 153.035 , 153.67  , 153.67  , 153.67  , 153.67  ,\n",
       "         153.67  , 153.67  , 153.67  , 153.67  , 153.67  , 154.305 ,\n",
       "         154.305 , 154.305 , 154.305 , 154.305 , 154.305 , 154.305 ,\n",
       "         154.305 , 154.305 , 154.9   , 154.94  , 154.94  , 154.94  ,\n",
       "         154.94  , 154.94  , 154.94  , 154.94  , 154.94  , 154.94  ,\n",
       "         154.94  , 154.94  , 154.94  , 154.94  , 154.94  , 155.575 ,\n",
       "         155.575 , 155.575 , 155.575 , 155.575 , 155.575 , 156.21  ,\n",
       "         156.21  , 156.21  , 156.21  , 156.21  , 156.21  , 156.21  ,\n",
       "         156.21  , 156.21  , 156.21  , 156.845 , 156.845 , 156.845 ,\n",
       "         156.845 , 156.845 , 157.48  , 157.48  , 157.48  , 157.48  ,\n",
       "         157.48  , 157.48  , 157.48  , 157.48  , 157.48  , 157.48  ,\n",
       "         157.48  , 157.48  , 157.48  , 157.48  , 157.988 , 158.115 ,\n",
       "         158.115 , 158.115 , 158.115 , 158.115 , 158.115 , 158.115 ,\n",
       "         158.4198, 158.75  , 158.75  , 158.75  , 158.75  , 158.8   ,\n",
       "         159.385 , 159.385 , 159.385 , 159.385 , 159.385 , 159.385 ,\n",
       "         159.385 , 159.385 , 159.4   , 160.    , 160.02  , 160.02  ,\n",
       "         160.02  , 160.02  , 160.02  , 160.02  , 160.02  , 160.02  ,\n",
       "         160.02  , 160.02  , 160.02  , 160.655 , 160.655 , 160.655 ,\n",
       "         160.655 , 160.655 , 160.655 , 160.655 , 160.655 , 160.655 ,\n",
       "         160.655 , 160.7   , 160.9598, 160.9852, 160.9852, 161.0106,\n",
       "         161.29  , 161.29  , 161.29  , 161.29  , 161.29  , 161.29  ,\n",
       "         161.29  , 161.3   , 161.925 , 161.925 , 161.925 , 161.925 ,\n",
       "         161.925 , 161.925 , 161.925 , 161.925 , 162.56  , 162.56  ,\n",
       "         162.56  , 162.56  , 162.56  , 162.56  , 162.56  , 162.56  ,\n",
       "         162.56  , 162.56  , 162.8648, 163.195 , 163.195 , 163.195 ,\n",
       "         163.195 , 163.195 , 163.83  , 163.83  , 163.83  , 163.83  ,\n",
       "         163.83  , 163.83  , 163.83  , 163.83  , 164.465 , 164.465 ,\n",
       "         164.465 , 165.1   , 165.1   , 165.735 , 165.735 , 165.735 ,\n",
       "         165.735 , 165.989 , 165.989 , 166.37  , 166.37  , 167.005 ,\n",
       "         167.005 , 167.005 , 167.005 , 167.005 , 167.005 , 167.64  ,\n",
       "         168.275 , 168.275 , 168.91  , 168.91  , 168.91  , 169.545 ,\n",
       "         170.18  , 170.18  , 170.18  , 170.815 , 170.815 , 171.1198,\n",
       "         171.45  , 172.72  , 172.9994, 179.07  ])),\n",
       " (25.390258088792923, 138.2635963235294, 0.9163515486994591))"
      ]
     },
     "execution_count": 57,
     "metadata": {},
     "output_type": "execute_result"
    },
    {
     "data": {
      "image/png": "[encoded data removed]",
      "text/plain": [
       "<Figure size 432x288 with 1 Axes>"
      ]
     },
     "metadata": {
      "needs_background": "light"
     },
     "output_type": "display_data"
    }
   ],
   "source": [
    "probplot(HWAS[\"height\"],plot=plt)\n"
   ]
  },
  {
   "cell_type": "code",
   "execution_count": 51,
   "metadata": {},
   "outputs": [],
   "source": [
    "HWAS_Adult = HWAS.loc[(HWAS[\"age\"]>25)]"
   ]
  },
  {
   "cell_type": "code",
   "execution_count": 52,
   "metadata": {},
   "outputs": [
    {
     "data": {
      "text/plain": [
       "154.6914615916955"
      ]
     },
     "execution_count": 52,
     "metadata": {},
     "output_type": "execute_result"
    }
   ],
   "source": [
    "HWAS_Adult['height'].mean()"
   ]
  },
  {
   "cell_type": "code",
   "execution_count": 53,
   "metadata": {},
   "outputs": [
    {
     "data": {
      "text/plain": [
       "7.67367674640238"
      ]
     },
     "execution_count": 53,
     "metadata": {},
     "output_type": "execute_result"
    }
   ],
   "source": [
    "HWAS_Adult['height'].std()"
   ]
  },
  {
   "cell_type": "code",
   "execution_count": 56,
   "metadata": {},
   "outputs": [
    {
     "data": {
      "text/plain": [
       "[<matplotlib.lines.Line2D at 0x245a7999cc0>]"
      ]
     },
     "execution_count": 56,
     "metadata": {},
     "output_type": "execute_result"
    },
    {
     "data": {
      "image/png": "[encoded data removed]",
      "text/plain": [
       "<Figure size 432x288 with 1 Axes>"
      ]
     },
     "metadata": {
      "needs_background": "light"
     },
     "output_type": "display_data"
    }
   ],
   "source": [
    "height_norm = norm(loc=154.6914615916955,scale=7.67367674640238)\n",
    "plt.hist(HWAS_Adult['height'],density=True)\n",
    "plt.plot(np.linspace(130,180,2000),height_norm.pdf(np.linspace(130,180,2000)),'r-')\n"
   ]
  },
  {
   "cell_type": "code",
   "execution_count": 59,
   "metadata": {},
   "outputs": [
    {
     "data": {
      "text/plain": [
       "((array([-2.82075228, -2.52320945, -2.35464121, -2.23446819, -2.13988614,\n",
       "         -2.06128713, -1.99367721, -1.9341147 , -1.88071489, -1.83219483,\n",
       "         -1.78764014, -1.74637523, -1.70788622, -1.67177275, -1.63771659,\n",
       "         -1.60546043, -1.57479314, -1.54553923, -1.51755122, -1.49070387,\n",
       "         -1.46488995, -1.44001686, -1.41600406, -1.39278108, -1.37028585,\n",
       "         -1.34846343, -1.32726493, -1.30664665, -1.28656935, -1.26699768,\n",
       "         -1.24789966, -1.22924626, -1.21101103, -1.19316985, -1.17570058,\n",
       "         -1.15858292, -1.14179818, -1.12532909, -1.10915971, -1.09327523,\n",
       "         -1.07766191, -1.06230698, -1.0471985 , -1.03232537, -1.01767716,\n",
       "         -1.00324412, -0.98901709, -0.97498749, -0.96114722, -0.94748865,\n",
       "         -0.9340046 , -0.92068826, -0.90753321, -0.89453338, -0.88168298,\n",
       "         -0.86897656, -0.85640891, -0.84397509, -0.83167041, -0.81949037,\n",
       "         -0.80743071, -0.79548735, -0.7836564 , -0.77193413, -0.760317  ,\n",
       "         -0.74880157, -0.7373846 , -0.72606295, -0.7148336 , -0.70369368,\n",
       "         -0.69264041, -0.68167113, -0.67078326, -0.65997434, -0.64924197,\n",
       "         -0.63858388, -0.62799784, -0.61748171, -0.60703343, -0.596651  ,\n",
       "         -0.58633249, -0.57607604, -0.56587983, -0.55574212, -0.5456612 ,\n",
       "         -0.53563544, -0.52566323, -0.51574302, -0.50587331, -0.49605264,\n",
       "         -0.48627957, -0.47655274, -0.46687078, -0.45723239, -0.4476363 ,\n",
       "         -0.43808125, -0.42856602, -0.41908945, -0.40965036, -0.40024763,\n",
       "         -0.39088016, -0.38154686, -0.37224668, -0.36297859, -0.35374157,\n",
       "         -0.34453464, -0.33535682, -0.32620717, -0.31708474, -0.30798862,\n",
       "         -0.29891791, -0.28987174, -0.28084922, -0.27184951, -0.26287176,\n",
       "         -0.25391515, -0.24497887, -0.2360621 , -0.22716407, -0.21828399,\n",
       "         -0.20942108, -0.2005746 , -0.19174378, -0.18292789, -0.1741262 ,\n",
       "         -0.16533798, -0.15656251, -0.14779908, -0.13904698, -0.13030552,\n",
       "         -0.12157401, -0.11285176, -0.10413808, -0.09543231, -0.08673376,\n",
       "         -0.07804177, -0.06935567, -0.0606748 , -0.05199851, -0.04332612,\n",
       "         -0.03465699, -0.02599047, -0.01732589, -0.00866262,  0.        ,\n",
       "          0.00866262,  0.01732589,  0.02599047,  0.03465699,  0.04332612,\n",
       "          0.05199851,  0.0606748 ,  0.06935567,  0.07804177,  0.08673376,\n",
       "          0.09543231,  0.10413808,  0.11285176,  0.12157401,  0.13030552,\n",
       "          0.13904698,  0.14779908,  0.15656251,  0.16533798,  0.1741262 ,\n",
       "          0.18292789,  0.19174378,  0.2005746 ,  0.20942108,  0.21828399,\n",
       "          0.22716407,  0.2360621 ,  0.24497887,  0.25391515,  0.26287176,\n",
       "          0.27184951,  0.28084922,  0.28987174,  0.29891791,  0.30798862,\n",
       "          0.31708474,  0.32620717,  0.33535682,  0.34453464,  0.35374157,\n",
       "          0.36297859,  0.37224668,  0.38154686,  0.39088016,  0.40024763,\n",
       "          0.40965036,  0.41908945,  0.42856602,  0.43808125,  0.4476363 ,\n",
       "          0.45723239,  0.46687078,  0.47655274,  0.48627957,  0.49605264,\n",
       "          0.50587331,  0.51574302,  0.52566323,  0.53563544,  0.5456612 ,\n",
       "          0.55574212,  0.56587983,  0.57607604,  0.58633249,  0.596651  ,\n",
       "          0.60703343,  0.61748171,  0.62799784,  0.63858388,  0.64924197,\n",
       "          0.65997434,  0.67078326,  0.68167113,  0.69264041,  0.70369368,\n",
       "          0.7148336 ,  0.72606295,  0.7373846 ,  0.74880157,  0.760317  ,\n",
       "          0.77193413,  0.7836564 ,  0.79548735,  0.80743071,  0.81949037,\n",
       "          0.83167041,  0.84397509,  0.85640891,  0.86897656,  0.88168298,\n",
       "          0.89453338,  0.90753321,  0.92068826,  0.9340046 ,  0.94748865,\n",
       "          0.96114722,  0.97498749,  0.98901709,  1.00324412,  1.01767716,\n",
       "          1.03232537,  1.0471985 ,  1.06230698,  1.07766191,  1.09327523,\n",
       "          1.10915971,  1.12532909,  1.14179818,  1.15858292,  1.17570058,\n",
       "          1.19316985,  1.21101103,  1.22924626,  1.24789966,  1.26699768,\n",
       "          1.28656935,  1.30664665,  1.32726493,  1.34846343,  1.37028585,\n",
       "          1.39278108,  1.41600406,  1.44001686,  1.46488995,  1.49070387,\n",
       "          1.51755122,  1.54553923,  1.57479314,  1.60546043,  1.63771659,\n",
       "          1.67177275,  1.70788622,  1.74637523,  1.78764014,  1.83219483,\n",
       "          1.88071489,  1.9341147 ,  1.99367721,  2.06128713,  2.13988614,\n",
       "          2.23446819,  2.35464121,  2.52320945,  2.82075228]),\n",
       "  array([136.525 , 136.525 , 139.065 , 139.7   , 139.7   , 140.335 ,\n",
       "         140.97  , 141.605 , 141.605 , 141.605 , 142.24  , 142.875 ,\n",
       "         142.875 , 142.875 , 142.875 , 142.875 , 142.875 , 142.875 ,\n",
       "         142.875 , 143.51  , 143.51  , 143.9418, 144.145 , 144.145 ,\n",
       "         144.145 , 144.145 , 144.145 , 144.78  , 144.78  , 144.78  ,\n",
       "         144.78  , 144.78  , 144.78  , 145.415 , 145.415 , 145.415 ,\n",
       "         145.415 , 145.415 , 145.415 , 145.415 , 146.05  , 146.05  ,\n",
       "         146.05  , 146.05  , 146.4   , 146.685 , 146.685 , 146.685 ,\n",
       "         147.32  , 147.32  , 147.32  , 147.32  , 147.32  , 147.32  ,\n",
       "         147.32  , 147.955 , 147.955 , 147.955 , 147.955 , 147.955 ,\n",
       "         147.955 , 147.955 , 148.2852, 148.59  , 148.59  , 148.59  ,\n",
       "         148.59  , 148.59  , 148.59  , 148.59  , 148.59  , 149.225 ,\n",
       "         149.225 , 149.225 , 149.225 , 149.225 , 149.225 , 149.225 ,\n",
       "         149.225 , 149.225 , 149.225 , 149.225 , 149.86  , 149.86  ,\n",
       "         149.86  , 149.86  , 149.86  , 149.86  , 149.86  , 149.86  ,\n",
       "         149.86  , 150.495 , 150.495 , 150.495 , 150.495 , 150.495 ,\n",
       "         150.495 , 150.495 , 151.13  , 151.13  , 151.13  , 151.13  ,\n",
       "         151.13  , 151.13  , 151.13  , 151.765 , 151.765 , 151.765 ,\n",
       "         151.765 , 151.765 , 151.765 , 151.765 , 151.765 , 151.9936,\n",
       "         152.4   , 152.4   , 152.4   , 152.4   , 152.4   , 152.4   ,\n",
       "         152.4   , 152.4   , 152.4   , 152.4   , 152.4   , 152.4   ,\n",
       "         152.4   , 152.4   , 152.7048, 153.035 , 153.035 , 153.035 ,\n",
       "         153.035 , 153.035 , 153.035 , 153.67  , 153.67  , 153.67  ,\n",
       "         153.67  , 153.67  , 153.67  , 154.305 , 154.305 , 154.305 ,\n",
       "         154.305 , 154.305 , 154.305 , 154.305 , 154.94  , 154.94  ,\n",
       "         154.94  , 154.94  , 154.94  , 154.94  , 154.94  , 154.94  ,\n",
       "         154.94  , 154.94  , 154.94  , 154.94  , 155.575 , 155.575 ,\n",
       "         155.575 , 155.575 , 156.21  , 156.21  , 156.21  , 156.21  ,\n",
       "         156.21  , 156.21  , 156.21  , 156.845 , 156.845 , 156.845 ,\n",
       "         156.845 , 156.845 , 157.48  , 157.48  , 157.48  , 157.48  ,\n",
       "         157.48  , 157.48  , 157.48  , 157.48  , 157.988 , 158.115 ,\n",
       "         158.115 , 158.115 , 158.115 , 158.115 , 158.115 , 158.75  ,\n",
       "         158.75  , 158.75  , 158.75  , 159.385 , 159.385 , 159.385 ,\n",
       "         159.385 , 159.385 , 159.385 , 159.385 , 159.385 , 159.4   ,\n",
       "         160.02  , 160.02  , 160.02  , 160.02  , 160.02  , 160.02  ,\n",
       "         160.02  , 160.02  , 160.655 , 160.655 , 160.655 , 160.655 ,\n",
       "         160.655 , 160.655 , 160.655 , 160.655 , 160.7   , 160.9598,\n",
       "         160.9852, 160.9852, 161.0106, 161.29  , 161.29  , 161.29  ,\n",
       "         161.29  , 161.925 , 161.925 , 161.925 , 161.925 , 161.925 ,\n",
       "         161.925 , 161.925 , 161.925 , 162.56  , 162.56  , 162.56  ,\n",
       "         162.56  , 162.56  , 162.56  , 162.56  , 162.56  , 162.56  ,\n",
       "         163.195 , 163.195 , 163.195 , 163.195 , 163.83  , 163.83  ,\n",
       "         163.83  , 163.83  , 163.83  , 163.83  , 163.83  , 164.465 ,\n",
       "         164.465 , 164.465 , 165.1   , 165.1   , 165.735 , 165.735 ,\n",
       "         165.735 , 165.735 , 165.989 , 166.37  , 166.37  , 167.005 ,\n",
       "         167.005 , 167.005 , 167.005 , 167.005 , 167.005 , 167.64  ,\n",
       "         168.275 , 168.91  , 168.91  , 168.91  , 169.545 , 170.18  ,\n",
       "         170.18  , 170.18  , 170.815 , 170.815 , 171.1198, 171.45  ,\n",
       "         172.9994])),\n",
       " (7.687240724184069, 154.6914615916955, 0.9953245449453461))"
      ]
     },
     "execution_count": 59,
     "metadata": {},
     "output_type": "execute_result"
    },
    {
     "data": {
      "image/png": "[encoded data removed]",
      "text/plain": [
       "<Figure size 432x288 with 1 Axes>"
      ]
     },
     "metadata": {
      "needs_background": "light"
     },
     "output_type": "display_data"
    }
   ],
   "source": [
    "probplot(HWAS_Adult['height'],plot=plt)"
   ]
  },
  {
   "cell_type": "markdown",
   "metadata": {},
   "source": [
    "(Linear) Regression is a statistical technique that attempts to model the (linear) relationship between a pair of variables. One of the most common versions of this process is called ordinary least squares regression. We can use this technique to make predictions based on a line of best fit to our data. "
   ]
  },
  {
   "cell_type": "code",
   "execution_count": 60,
   "metadata": {},
   "outputs": [],
   "source": [
    "from sklearn.linear_model import LinearRegression\n"
   ]
  },
  {
   "cell_type": "code",
   "execution_count": 61,
   "metadata": {},
   "outputs": [],
   "source": [
    "df = pd.read_csv(\"./Data/education_income.csv\")"
   ]
  },
  {
   "cell_type": "code",
   "execution_count": 62,
   "metadata": {},
   "outputs": [
    {
     "data": {
      "text/html": [
       "<div>\n",
       "<style scoped>\n",
       "    .dataframe tbody tr th:only-of-type {\n",
       "        vertical-align: middle;\n",
       "    }\n",
       "\n",
       "    .dataframe tbody tr th {\n",
       "        vertical-align: top;\n",
       "    }\n",
       "\n",
       "    .dataframe thead th {\n",
       "        text-align: right;\n",
       "    }\n",
       "</style>\n",
       "<table border=\"1\" class=\"dataframe\">\n",
       "  <thead>\n",
       "    <tr style=\"text-align: right;\">\n",
       "      <th></th>\n",
       "      <th>State</th>\n",
       "      <th>HS Perc</th>\n",
       "      <th>HS Rank</th>\n",
       "      <th>BS Perc</th>\n",
       "      <th>BS rank</th>\n",
       "      <th>ADV Perc</th>\n",
       "      <th>Per Capita Income</th>\n",
       "      <th>Median HH Income</th>\n",
       "      <th>Median Family Income</th>\n",
       "      <th>Population</th>\n",
       "      <th>Num HH</th>\n",
       "      <th>Num Family</th>\n",
       "      <th>2018</th>\n",
       "      <th>2017</th>\n",
       "      <th>2016</th>\n",
       "      <th>2015</th>\n",
       "      <th>2014</th>\n",
       "    </tr>\n",
       "  </thead>\n",
       "  <tbody>\n",
       "    <tr>\n",
       "      <th>0</th>\n",
       "      <td>Alabama</td>\n",
       "      <td>85.3</td>\n",
       "      <td>45</td>\n",
       "      <td>24.5</td>\n",
       "      <td>46</td>\n",
       "      <td>9.1</td>\n",
       "      <td>23606</td>\n",
       "      <td>42830</td>\n",
       "      <td>53764</td>\n",
       "      <td>4849377</td>\n",
       "      <td>1841217</td>\n",
       "      <td>1232515</td>\n",
       "      <td>49861</td>\n",
       "      <td>48123</td>\n",
       "      <td>46257</td>\n",
       "      <td>44765</td>\n",
       "      <td>42830</td>\n",
       "    </tr>\n",
       "    <tr>\n",
       "      <th>1</th>\n",
       "      <td>Alaska</td>\n",
       "      <td>92.4</td>\n",
       "      <td>5</td>\n",
       "      <td>29.0</td>\n",
       "      <td>28</td>\n",
       "      <td>10.4</td>\n",
       "      <td>33062</td>\n",
       "      <td>71583</td>\n",
       "      <td>82307</td>\n",
       "      <td>736732</td>\n",
       "      <td>249659</td>\n",
       "      <td>165015</td>\n",
       "      <td>74346</td>\n",
       "      <td>73181</td>\n",
       "      <td>76440</td>\n",
       "      <td>73355</td>\n",
       "      <td>71583</td>\n",
       "    </tr>\n",
       "    <tr>\n",
       "      <th>2</th>\n",
       "      <td>Arizona</td>\n",
       "      <td>86.5</td>\n",
       "      <td>39</td>\n",
       "      <td>28.4</td>\n",
       "      <td>32</td>\n",
       "      <td>10.7</td>\n",
       "      <td>25715</td>\n",
       "      <td>50068</td>\n",
       "      <td>59700</td>\n",
       "      <td>6731484</td>\n",
       "      <td>2428743</td>\n",
       "      <td>1579481</td>\n",
       "      <td>59246</td>\n",
       "      <td>56581</td>\n",
       "      <td>53558</td>\n",
       "      <td>51492</td>\n",
       "      <td>50068</td>\n",
       "    </tr>\n",
       "    <tr>\n",
       "      <th>3</th>\n",
       "      <td>Arkansas</td>\n",
       "      <td>85.6</td>\n",
       "      <td>44</td>\n",
       "      <td>22.0</td>\n",
       "      <td>50</td>\n",
       "      <td>7.9</td>\n",
       "      <td>22883</td>\n",
       "      <td>41262</td>\n",
       "      <td>51528</td>\n",
       "      <td>2966369</td>\n",
       "      <td>1131288</td>\n",
       "      <td>752212</td>\n",
       "      <td>47062</td>\n",
       "      <td>45869</td>\n",
       "      <td>44334</td>\n",
       "      <td>41995</td>\n",
       "      <td>41262</td>\n",
       "    </tr>\n",
       "    <tr>\n",
       "      <th>4</th>\n",
       "      <td>California</td>\n",
       "      <td>82.5</td>\n",
       "      <td>51</td>\n",
       "      <td>32.6</td>\n",
       "      <td>15</td>\n",
       "      <td>12.2</td>\n",
       "      <td>30441</td>\n",
       "      <td>61933</td>\n",
       "      <td>71015</td>\n",
       "      <td>38802500</td>\n",
       "      <td>12758648</td>\n",
       "      <td>8762059</td>\n",
       "      <td>75277</td>\n",
       "      <td>71805</td>\n",
       "      <td>67739</td>\n",
       "      <td>64500</td>\n",
       "      <td>61933</td>\n",
       "    </tr>\n",
       "  </tbody>\n",
       "</table>\n",
       "</div>"
      ],
      "text/plain": [
       "          State  HS Perc  HS Rank  BS Perc  BS rank  ADV Perc  \\\n",
       "0      Alabama      85.3       45     24.5       46       9.1   \n",
       "1       Alaska      92.4        5     29.0       28      10.4   \n",
       "2      Arizona      86.5       39     28.4       32      10.7   \n",
       "3     Arkansas      85.6       44     22.0       50       7.9   \n",
       "4   California      82.5       51     32.6       15      12.2   \n",
       "\n",
       "   Per Capita Income  Median HH Income  Median Family Income  Population  \\\n",
       "0              23606             42830                 53764     4849377   \n",
       "1              33062             71583                 82307      736732   \n",
       "2              25715             50068                 59700     6731484   \n",
       "3              22883             41262                 51528     2966369   \n",
       "4              30441             61933                 71015    38802500   \n",
       "\n",
       "     Num HH  Num Family   2018   2017   2016   2015   2014  \n",
       "0   1841217     1232515  49861  48123  46257  44765  42830  \n",
       "1    249659      165015  74346  73181  76440  73355  71583  \n",
       "2   2428743     1579481  59246  56581  53558  51492  50068  \n",
       "3   1131288      752212  47062  45869  44334  41995  41262  \n",
       "4  12758648     8762059  75277  71805  67739  64500  61933  "
      ]
     },
     "execution_count": 62,
     "metadata": {},
     "output_type": "execute_result"
    }
   ],
   "source": [
    "df.head()\n"
   ]
  },
  {
   "cell_type": "code",
   "execution_count": 63,
   "metadata": {},
   "outputs": [
    {
     "data": {
      "text/plain": [
       "<matplotlib.collections.PathCollection at 0x245a809d550>"
      ]
     },
     "execution_count": 63,
     "metadata": {},
     "output_type": "execute_result"
    },
    {
     "data": {
      "image/png": "[encoded data removed]",
      "text/plain": [
       "<Figure size 432x288 with 1 Axes>"
      ]
     },
     "metadata": {
      "needs_background": "light"
     },
     "output_type": "display_data"
    }
   ],
   "source": [
    "plt.scatter(df[\"BS Perc\"],df[\"Median HH Income\"])"
   ]
  },
  {
   "cell_type": "code",
   "execution_count": 65,
   "metadata": {},
   "outputs": [],
   "source": [
    "OLS = LinearRegression()\n",
    "OLS.fit(df[['BS Perc']],df['Median HH Income'])\n",
    "yhat = OLS.predict(df[['BS Perc']])"
   ]
  },
  {
   "cell_type": "code",
   "execution_count": 69,
   "metadata": {},
   "outputs": [
    {
     "data": {
      "text/plain": [
       "[<matplotlib.lines.Line2D at 0x245a8458080>]"
      ]
     },
     "execution_count": 69,
     "metadata": {},
     "output_type": "execute_result"
    },
    {
     "data": {
      "image/png": "[encoded data removed]",
      "text/plain": [
       "<Figure size 432x288 with 1 Axes>"
      ]
     },
     "metadata": {
      "needs_background": "light"
     },
     "output_type": "display_data"
    }
   ],
   "source": [
    "plt.scatter(df[['BS Perc']],df['Median HH Income'])\n",
    "plt.plot(df[['BS Perc']],yhat,color='red')"
   ]
  },
  {
   "cell_type": "code",
   "execution_count": 70,
   "metadata": {},
   "outputs": [
    {
     "data": {
      "text/plain": [
       "array([1446.42891887])"
      ]
     },
     "execution_count": 70,
     "metadata": {},
     "output_type": "execute_result"
    }
   ],
   "source": [
    "OLS.coef_"
   ]
  },
  {
   "cell_type": "code",
   "execution_count": 72,
   "metadata": {},
   "outputs": [
    {
     "data": {
      "text/plain": [
       "10551.95953721791"
      ]
     },
     "execution_count": 72,
     "metadata": {},
     "output_type": "execute_result"
    }
   ],
   "source": [
    "OLS.intercept_"
   ]
  },
  {
   "cell_type": "code",
   "execution_count": 73,
   "metadata": {},
   "outputs": [
    {
     "data": {
      "text/plain": [
       "0.6625817676834422"
      ]
     },
     "execution_count": 73,
     "metadata": {},
     "output_type": "execute_result"
    }
   ],
   "source": [
    "OLS.score(df[['BS Perc']],df['Median HH Income'])"
   ]
  },
  {
   "cell_type": "code",
   "execution_count": 76,
   "metadata": {},
   "outputs": [
    {
     "data": {
      "text/plain": [
       "array([68409.11629193])"
      ]
     },
     "execution_count": 76,
     "metadata": {},
     "output_type": "execute_result"
    }
   ],
   "source": [
    "OLS.predict([[40]])"
   ]
  },
  {
   "cell_type": "code",
   "execution_count": 77,
   "metadata": {},
   "outputs": [
    {
     "data": {
      "text/plain": [
       "68409.11629201792"
      ]
     },
     "execution_count": 77,
     "metadata": {},
     "output_type": "execute_result"
    }
   ],
   "source": [
    "40*1446.42891887 + 10551.95953721791"
   ]
  },
  {
   "cell_type": "code",
   "execution_count": 81,
   "metadata": {},
   "outputs": [],
   "source": [
    "HW_OLS = LinearRegression()\n",
    "HW_OLS.fit(HWAS_Adult[[\"height\"]],HWAS_Adult[\"weight\"])\n",
    "yhat = HW_OLS.predict(HWAS_Adult[['height']])"
   ]
  },
  {
   "cell_type": "code",
   "execution_count": 82,
   "metadata": {},
   "outputs": [
    {
     "data": {
      "text/plain": [
       "[<matplotlib.lines.Line2D at 0x245a8535b00>]"
      ]
     },
     "execution_count": 82,
     "metadata": {},
     "output_type": "execute_result"
    },
    {
     "data": {
      "image/png": "[encoded data removed]",
      "text/plain": [
       "<Figure size 432x288 with 1 Axes>"
      ]
     },
     "metadata": {
      "needs_background": "light"
     },
     "output_type": "display_data"
    }
   ],
   "source": [
    "plt.scatter(HWAS_Adult[[\"height\"]],HWAS_Adult[\"weight\"])\n",
    "plt.plot(HWAS_Adult[[\"height\"]],yhat,color='red')"
   ]
  },
  {
   "cell_type": "code",
   "execution_count": null,
   "metadata": {},
   "outputs": [],
   "source": []
  }
 ],
 "metadata": {
  "kernelspec": {
   "display_name": "Python 3",
   "language": "python",
   "name": "python3"
  },
  "language_info": {
   "codemirror_mode": {
    "name": "ipython",
    "version": 3
   },
   "file_extension": ".py",
   "mimetype": "text/x-python",
   "name": "python",
   "nbconvert_exporter": "python",
   "pygments_lexer": "ipython3",
   "version": "3.6.5"
  }
 },
 "nbformat": 4,
 "nbformat_minor": 2
}
