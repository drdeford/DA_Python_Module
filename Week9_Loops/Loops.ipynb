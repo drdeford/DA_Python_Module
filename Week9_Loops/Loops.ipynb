{
 "cells": [
  {
   "cell_type": "markdown",
   "metadata": {},
   "source": [
    "# Introduction\n",
    "This week we continue our discussion of flow control by looking at the concept of loops in Python. While conditionals allowed us to change what Python does based on the truth value of an expression, loops will allow us to apply the same set of operations multiple times. This is one of the fundamental features of programming languages and one of the things that computers excel at (since they don't get bored)!\n",
    "\n",
    "Readings for this week (which overlap with last week's content): \n",
    "\n",
    "* [Chapter 2 of Automate the Boring Stuff](https://automatetheboringstuff.com/2e/chapter2/)\n",
    "* [Control Flow from A Byte of Python](https://python.swaroopch.com/control_flow.html)\n",
    "* [Chapter 9 of Problem Solving in Python](https://problemsolvingwithpython.com/09-Loops/09.00-Introduction/)\n"
   ]
  },
  {
   "cell_type": "markdown",
   "metadata": {},
   "source": [
    "The first type of loop we will consider is the for loop. Like the conditional statements from the previous notebook, for loops begin with a function, followed by an object to iterate over and a colon. The corresponding indendent statement is executed once for each pass through the loop and after each iteration the bound variable is incremented.\n"
   ]
  },
  {
   "cell_type": "code",
   "execution_count": 1,
   "metadata": {},
   "outputs": [
    {
     "name": "stdout",
     "output_type": "stream",
     "text": [
      "Zoom!\n",
      "Zoom!\n",
      "Zoom!\n",
      "Zoom!\n",
      "Zoom!\n",
      "Zoom!\n",
      "Zoom!\n",
      "Zoom!\n",
      "Zoom!\n",
      "Zoom!\n"
     ]
    }
   ],
   "source": [
    "for i in range(10):\n",
    "    print(\"Zoom!\")"
   ]
  },
  {
   "cell_type": "code",
   "execution_count": 2,
   "metadata": {},
   "outputs": [
    {
     "name": "stdout",
     "output_type": "stream",
     "text": [
      "0\n",
      "1\n",
      "2\n",
      "3\n",
      "4\n",
      "5\n",
      "6\n",
      "7\n",
      "8\n",
      "9\n"
     ]
    }
   ],
   "source": [
    "for i in range(10):\n",
    "    print(i)"
   ]
  },
  {
   "cell_type": "code",
   "execution_count": 3,
   "metadata": {},
   "outputs": [
    {
     "name": "stdout",
     "output_type": "stream",
     "text": [
      "45\n"
     ]
    }
   ],
   "source": [
    "a = 0\n",
    "for i in range(10):\n",
    "    a = a + i\n",
    "print(a)    "
   ]
  },
  {
   "cell_type": "code",
   "execution_count": 4,
   "metadata": {},
   "outputs": [
    {
     "name": "stdout",
     "output_type": "stream",
     "text": [
      "20\n"
     ]
    }
   ],
   "source": [
    "a = 0\n",
    "for i in range(10):\n",
    "    b = 2\n",
    "    a = a + b\n",
    "    \n",
    "print(a)    "
   ]
  },
  {
   "cell_type": "code",
   "execution_count": 5,
   "metadata": {},
   "outputs": [
    {
     "name": "stdout",
     "output_type": "stream",
     "text": [
      "[0, 1, 2, 3, 4, 5, 6, 7, 8, 9]\n"
     ]
    }
   ],
   "source": [
    "empty_list = []\n",
    "\n",
    "for i in range(10):\n",
    "    empty_list.append(i)\n",
    "print(empty_list)"
   ]
  },
  {
   "cell_type": "code",
   "execution_count": 6,
   "metadata": {},
   "outputs": [
    {
     "name": "stdout",
     "output_type": "stream",
     "text": [
      "[0, 1, 4, 9, 16, 25, 36, 49]\n"
     ]
    }
   ],
   "source": [
    "another_list = [0]\n",
    "\n",
    "for goldfish in range(7):\n",
    "    another_list.append(another_list[goldfish]+2*goldfish+1)\n",
    "print(another_list)    "
   ]
  },
  {
   "cell_type": "code",
   "execution_count": 7,
   "metadata": {},
   "outputs": [
    {
     "data": {
      "text/plain": [
       "6"
      ]
     },
     "execution_count": 7,
     "metadata": {},
     "output_type": "execute_result"
    }
   ],
   "source": [
    "goldfish"
   ]
  },
  {
   "cell_type": "code",
   "execution_count": 8,
   "metadata": {},
   "outputs": [],
   "source": [
    "Fibonacci_list = [1,1]\n",
    "\n",
    "for z in range(5):\n",
    "    Fibonacci_list.append(Fibonacci_list[-1]+Fibonacci_list[-2])"
   ]
  },
  {
   "cell_type": "code",
   "execution_count": 9,
   "metadata": {},
   "outputs": [
    {
     "name": "stdout",
     "output_type": "stream",
     "text": [
      "[13, 14, 46, 99, 65]\n",
      "[13, 14, 46, 99, 65]\n"
     ]
    }
   ],
   "source": [
    "my_list = [12, 13, 45, 98, 64]\n",
    "new_list = []\n",
    "\n",
    "for index in range(len(my_list)):\n",
    "    new_list.append(my_list[index] + 1)\n",
    "    \n",
    "newer_list = []\n",
    "\n",
    "for number in my_list:\n",
    "    newer_list.append(number + 1)\n",
    "\n",
    "print(new_list)\n",
    "print(newer_list)"
   ]
  },
  {
   "cell_type": "code",
   "execution_count": 10,
   "metadata": {},
   "outputs": [
    {
     "name": "stdout",
     "output_type": "stream",
     "text": [
      "(0, 0)\n",
      "(0, 1)\n",
      "(0, 2)\n",
      "(1, 0)\n",
      "(1, 1)\n",
      "(1, 2)\n",
      "(2, 0)\n",
      "(2, 1)\n",
      "(2, 2)\n",
      "(3, 0)\n",
      "(3, 1)\n",
      "(3, 2)\n",
      "(4, 0)\n",
      "(4, 1)\n",
      "(4, 2)\n"
     ]
    }
   ],
   "source": [
    "for i in range(5):\n",
    "    for j in range(3):\n",
    "        print((i,j))"
   ]
  },
  {
   "cell_type": "code",
   "execution_count": 11,
   "metadata": {},
   "outputs": [
    {
     "name": "stdout",
     "output_type": "stream",
     "text": [
      "[[0, 1, 2, 3], [1, 2, 3, 4], [2, 3, 4, 5], [3, 4, 5, 6]]\n"
     ]
    }
   ],
   "source": [
    "list_of_lists = []\n",
    "\n",
    "for i in range(4):\n",
    "    list_of_lists.append([])\n",
    "    for j in range(4):\n",
    "        list_of_lists[i].append(i+j)\n",
    "print(list_of_lists)       "
   ]
  },
  {
   "cell_type": "code",
   "execution_count": 12,
   "metadata": {},
   "outputs": [
    {
     "name": "stdout",
     "output_type": "stream",
     "text": [
      "195\n"
     ]
    }
   ],
   "source": [
    "value = 0\n",
    "\n",
    "for i in range(5):\n",
    "    value = value * i\n",
    "    for j in range(3):\n",
    "        value = value + j\n",
    "\n",
    "print(value)"
   ]
  },
  {
   "cell_type": "code",
   "execution_count": 13,
   "metadata": {},
   "outputs": [
    {
     "name": "stdout",
     "output_type": "stream",
     "text": [
      "0 is an odd number\n",
      "1 is an even number\n",
      "2 is an odd number\n",
      "3 is an even number\n",
      "4 is an odd number\n",
      "5 is an even number\n",
      "6 is an odd number\n",
      "7 is an even number\n",
      "8 is an odd number\n",
      "9 is an even number\n"
     ]
    }
   ],
   "source": [
    "for i in range(10):\n",
    "    if i%2 == 0:\n",
    "        print(f\"{i} is an odd number\")\n",
    "    else:\n",
    "        print(f\"{i} is an even number\")"
   ]
  },
  {
   "cell_type": "code",
   "execution_count": 14,
   "metadata": {},
   "outputs": [
    {
     "name": "stdout",
     "output_type": "stream",
     "text": [
      "The sum of all the numbers is -262 and the sum of the positive numbers is 82.\n"
     ]
    }
   ],
   "source": [
    "some_numbers = [10,12, -4, 24, -100,-240, 36]\n",
    "\n",
    "total_sum = 0\n",
    "\n",
    "positive_sum = 0\n",
    "\n",
    "for number in some_numbers: \n",
    "    total_sum += number\n",
    "    \n",
    "    if number > 0:\n",
    "        positive_sum += number\n",
    "\n",
    "print(f\"The sum of all the numbers is {total_sum} and the sum of the positive numbers is {positive_sum}.\")"
   ]
  },
  {
   "cell_type": "markdown",
   "metadata": {},
   "source": [
    "When we have worked with pandas dataframes so far, we haven't needed loops to interact with each row of a dataset. This is a concept called vectorization, and it is one reason to prefer to work with packages and data structures specifically designed to hold numerical data columns. Using the for-loop syntax above, we could try to iterate over the rows of a dataframe and perform some operation but the methods directly associated to the dataframe will almost always be more efficient. "
   ]
  },
  {
   "cell_type": "code",
   "execution_count": 15,
   "metadata": {},
   "outputs": [],
   "source": [
    "import pandas as pd\n",
    "College_Rankings = pd.read_csv('../Week7_Plotting2/Data/College_Rankings.csv')\n"
   ]
  },
  {
   "cell_type": "code",
   "execution_count": 16,
   "metadata": {},
   "outputs": [
    {
     "name": "stdout",
     "output_type": "stream",
     "text": [
      "Rank                                    44\n",
      "Name          Whitman College, Walla Walla\n",
      "State                                   WA\n",
      "Type                          Liberal Arts\n",
      "Admit                                   41\n",
      "Grad4                                   82\n",
      "Cost                                 59102\n",
      "NeedAid                              28484\n",
      "NonNeedAid                            9104\n",
      "NNApercent                              55\n",
      "GradDebt                             19147\n",
      "Salary                               43000\n",
      "Year                                  2019\n",
      "Name: 43, dtype: object\n",
      "Rank                                        105\n",
      "Name          University of Washington, Seattle\n",
      "State                                        WA\n",
      "Type                                     Public\n",
      "Admit                                        55\n",
      "Grad4                                        61\n",
      "Cost                                      46659\n",
      "NeedAid                                   15000\n",
      "NonNeedAid                                 5500\n",
      "NNApercent                                    5\n",
      "GradDebt                                  21532\n",
      "Salary                                    52100\n",
      "Year                                       2019\n",
      "Name: 104, dtype: object\n",
      "Rank                                  147\n",
      "Name          Gonzaga University, Spokane\n",
      "State                                  WA\n",
      "Type                              Private\n",
      "Admit                                  68\n",
      "Grad4                                  73\n",
      "Cost                                49917\n",
      "NeedAid                             19305\n",
      "NonNeedAid                          12083\n",
      "NNApercent                             87\n",
      "GradDebt                            29513\n",
      "Salary                              52800\n",
      "Year                                 2019\n",
      "Name: 146, dtype: object\n",
      "Rank                                    226\n",
      "Name          Whitworth University, Spokane\n",
      "State                                    WA\n",
      "Type                                Private\n",
      "Admit                                    75\n",
      "Grad4                                    65\n",
      "Cost                                  50698\n",
      "NeedAid                               22974\n",
      "NonNeedAid                            16897\n",
      "NNApercent                               78\n",
      "GradDebt                              26132\n",
      "Salary                                41200\n",
      "Year                                   2019\n",
      "Name: 225, dtype: object\n",
      "Rank                                        252\n",
      "Name          University of Puget Sound, Tacoma\n",
      "State                                        WA\n",
      "Type                               Liberal Arts\n",
      "Admit                                        79\n",
      "Grad4                                        68\n",
      "Cost                                      57220\n",
      "NeedAid                                   23410\n",
      "NonNeedAid                                14886\n",
      "NNApercent                                   93\n",
      "GradDebt                                  27776\n",
      "Salary                                    51500\n",
      "Year                                       2019\n",
      "Name: 251, dtype: object\n",
      "Rank                                                264\n",
      "Name          Western Washington University, Bellingham\n",
      "State                                                WA\n",
      "Type                                             Public\n",
      "Admit                                                85\n",
      "Grad4                                                40\n",
      "Cost                                              32421\n",
      "NeedAid                                            9063\n",
      "NonNeedAid                                         2020\n",
      "NNApercent                                            3\n",
      "GradDebt                                          21520\n",
      "Salary                                            43200\n",
      "Year                                               2019\n",
      "Name: 263, dtype: object\n",
      "Rank                                          269\n",
      "Name          Seattle Pacific University, Seattle\n",
      "State                                          WA\n",
      "Type                                      Private\n",
      "Admit                                          83\n",
      "Grad4                                          60\n",
      "Cost                                        48480\n",
      "NeedAid                                     25947\n",
      "NonNeedAid                                  20277\n",
      "NNApercent                                     66\n",
      "GradDebt                                    28844\n",
      "Salary                                      43900\n",
      "Year                                         2019\n",
      "Name: 268, dtype: object\n",
      "Rank                                    44\n",
      "Name          Whitman College, Walla Walla\n",
      "State                                   WA\n",
      "Type                          Liberal Arts\n",
      "Admit                                   39\n",
      "Grad4                                   82\n",
      "Cost                                 59745\n",
      "NeedAid                              28446\n",
      "NonNeedAid                            9104\n",
      "NNApercent                              55\n",
      "GradDebt                             19053\n",
      "Salary                               42080\n",
      "Year                                  2021\n",
      "Name: 343, dtype: object\n",
      "Rank                                        105\n",
      "Name          University of Washington, Seattle\n",
      "State                                        WA\n",
      "Type                                     Public\n",
      "Admit                                        56\n",
      "Grad4                                        60\n",
      "Cost                                      46295\n",
      "NeedAid                                   14956\n",
      "NonNeedAid                                 5500\n",
      "NNApercent                                    5\n",
      "GradDebt                                  21308\n",
      "Salary                                    52997\n",
      "Year                                       2021\n",
      "Name: 404, dtype: object\n",
      "Rank                                  147\n",
      "Name          Gonzaga University, Spokane\n",
      "State                                  WA\n",
      "Type                              Private\n",
      "Admit                                  69\n",
      "Grad4                                  70\n",
      "Cost                                49231\n",
      "NeedAid                             19336\n",
      "NonNeedAid                          12083\n",
      "NNApercent                             87\n",
      "GradDebt                            29846\n",
      "Salary                              53763\n",
      "Year                                 2020\n",
      "Name: 446, dtype: object\n",
      "Rank                                    226\n",
      "Name          Whitworth University, Spokane\n",
      "State                                    WA\n",
      "Type                                Private\n",
      "Admit                                    74\n",
      "Grad4                                    68\n",
      "Cost                                  50869\n",
      "NeedAid                               22990\n",
      "NonNeedAid                            16897\n",
      "NNApercent                               78\n",
      "GradDebt                              25641\n",
      "Salary                                41177\n",
      "Year                                   2021\n",
      "Name: 525, dtype: object\n",
      "Rank                                        252\n",
      "Name          University of Puget Sound, Tacoma\n",
      "State                                        WA\n",
      "Type                               Liberal Arts\n",
      "Admit                                        77\n",
      "Grad4                                        66\n",
      "Cost                                      57760\n",
      "NeedAid                                   23451\n",
      "NonNeedAid                                14886\n",
      "NNApercent                                   93\n",
      "GradDebt                                  28192\n",
      "Salary                                    51179\n",
      "Year                                       2020\n",
      "Name: 551, dtype: object\n",
      "Rank                                                264\n",
      "Name          Western Washington University, Bellingham\n",
      "State                                                WA\n",
      "Type                                             Public\n",
      "Admit                                                83\n",
      "Grad4                                                41\n",
      "Cost                                              33133\n",
      "NeedAid                                            9102\n",
      "NonNeedAid                                         2020\n",
      "NNApercent                                            3\n",
      "GradDebt                                          22229\n",
      "Salary                                            42888\n",
      "Year                                               2020\n",
      "Name: 563, dtype: object\n",
      "Rank                                          269\n",
      "Name          Seattle Pacific University, Seattle\n",
      "State                                          WA\n",
      "Type                                      Private\n",
      "Admit                                          83\n",
      "Grad4                                          61\n",
      "Cost                                        48577\n",
      "NeedAid                                     26023\n",
      "NonNeedAid                                  20277\n",
      "NNApercent                                     66\n",
      "GradDebt                                    29536\n",
      "Salary                                      43867\n",
      "Year                                         2020\n",
      "Name: 568, dtype: object\n"
     ]
    }
   ],
   "source": [
    "for i in range(len(College_Rankings)):\n",
    "    if College_Rankings.iloc[i][\"State\"]==\"WA\":\n",
    "        print(College_Rankings.iloc[i])"
   ]
  },
  {
   "cell_type": "markdown",
   "metadata": {},
   "source": [
    "The other type of loop we are going to discuss in this notebook is the `while` loop. These loops don't have a fixed variable to increment but instead continue executing their code block until a Boolean condition is met. These loops can be useful when we don't know exactly how many iterations we might need to achieve a desired result. \n",
    "\n"
   ]
  },
  {
   "cell_type": "code",
   "execution_count": 17,
   "metadata": {},
   "outputs": [
    {
     "name": "stdout",
     "output_type": "stream",
     "text": [
      "-4\n",
      "-3\n",
      "-2\n",
      "-1\n",
      "0\n"
     ]
    }
   ],
   "source": [
    "a = -5\n",
    "\n",
    "while a <0:\n",
    "    a = a +1\n",
    "    print(a)\n",
    "    \n"
   ]
  },
  {
   "cell_type": "code",
   "execution_count": 3,
   "metadata": {},
   "outputs": [
    {
     "name": "stdout",
     "output_type": "stream",
     "text": [
      "Do you like bunnies?\n",
      "yes\n",
      "Do you like bunnies?\n",
      "sometimes\n",
      "Do you like bunnies?\n",
      "not today\n",
      "Do you like bunnies?\n",
      "no\n",
      "Do you like bunnies?\n",
      "yes\n",
      "Do you like bunnies?\n",
      "Yes\n",
      "\n",
      "You passed!\n",
      "and it only took you 6 tries!\n"
     ]
    }
   ],
   "source": [
    "check = False\n",
    "counter = 0\n",
    "while check == False:\n",
    "    print(\"Do you like bunnies?\")\n",
    "    answer = input()\n",
    "    counter += 1\n",
    "    \n",
    "    if answer == \"Yes\":\n",
    "        check = True\n",
    "        \n",
    "print(\"\\nYou passed!\")\n",
    "print(f\"and it only took you {counter} tries!\")"
   ]
  },
  {
   "cell_type": "code",
   "execution_count": null,
   "metadata": {},
   "outputs": [],
   "source": []
  },
  {
   "cell_type": "code",
   "execution_count": null,
   "metadata": {},
   "outputs": [],
   "source": []
  }
 ],
 "metadata": {
  "kernelspec": {
   "display_name": "Python 3",
   "language": "python",
   "name": "python3"
  },
  "language_info": {
   "codemirror_mode": {
    "name": "ipython",
    "version": 3
   },
   "file_extension": ".py",
   "mimetype": "text/x-python",
   "name": "python",
   "nbconvert_exporter": "python",
   "pygments_lexer": "ipython3",
   "version": "3.6.5"
  }
 },
 "nbformat": 4,
 "nbformat_minor": 2
}
